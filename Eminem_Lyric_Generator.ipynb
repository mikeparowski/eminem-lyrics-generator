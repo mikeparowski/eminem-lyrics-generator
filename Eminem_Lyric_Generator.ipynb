{
 "cells": [
  {
   "cell_type": "code",
   "execution_count": 1,
   "metadata": {},
   "outputs": [
    {
     "name": "stderr",
     "output_type": "stream",
     "text": [
      "/Users/michael/miniconda3/envs/py36/lib/python3.6/site-packages/h5py/__init__.py:36: FutureWarning: Conversion of the second argument of issubdtype from `float` to `np.floating` is deprecated. In future, it will be treated as `np.float64 == np.dtype(float).type`.\n",
      "  from ._conv import register_converters as _register_converters\n",
      "Using TensorFlow backend.\n"
     ]
    }
   ],
   "source": [
    "from __future__ import print_function\n",
    "from keras.callbacks import LambdaCallback\n",
    "from keras.models import Sequential\n",
    "from keras.layers import Dense, Activation\n",
    "from keras.layers import LSTM\n",
    "from keras.optimizers import RMSprop, Adam\n",
    "from keras.utils.data_utils import get_file\n",
    "import numpy as np\n",
    "import pandas as pd\n",
    "from unidecode import unidecode\n",
    "import random, sys, io, re"
   ]
  },
  {
   "cell_type": "code",
   "execution_count": 2,
   "metadata": {},
   "outputs": [],
   "source": [
    "songs = pd.read_csv('data/eminem-songs.csv')"
   ]
  },
  {
   "cell_type": "code",
   "execution_count": 3,
   "metadata": {},
   "outputs": [],
   "source": [
    "def get_tokenized_lines(df):\n",
    "    words = []\n",
    "    \n",
    "    for index, row in df['lyrics'].iteritems():\n",
    "        row = str(row).lower()\n",
    "        for line in row.split('|-|'):\n",
    "            new_words = re.findall(r\"\\b[a-z']+\\b\", unidecode(line))\n",
    "            words = words + new_words\n",
    "            \n",
    "    return words"
   ]
  },
  {
   "cell_type": "code",
   "execution_count": 4,
   "metadata": {},
   "outputs": [],
   "source": [
    "all_lyric_lines = get_tokenized_lines(songs)"
   ]
  },
  {
   "cell_type": "code",
   "execution_count": 5,
   "metadata": {},
   "outputs": [
    {
     "name": "stdout",
     "output_type": "stream",
     "text": [
      "Total Sequences: 377669\n"
     ]
    }
   ],
   "source": [
    "SEQ_LENGTH = 50 + 1\n",
    "sequences = []\n",
    "\n",
    "for i in range(SEQ_LENGTH, len(all_lyric_lines)):\n",
    "    seq = all_lyric_lines[i - SEQ_LENGTH: i]\n",
    "    sequences.append(seq)\n",
    "\n",
    "print(\"Total Sequences: %d\" % len(sequences))"
   ]
  },
  {
   "cell_type": "code",
   "execution_count": 6,
   "metadata": {},
   "outputs": [],
   "source": [
    "def save_doc(lines, filename):\n",
    "    data = []\n",
    "    for line in lines:\n",
    "        data.append(\" \".join(line))\n",
    "        \n",
    "    file = open(filename, 'w')\n",
    "    file.write('\\n'.join(data))\n",
    "    file.close()"
   ]
  },
  {
   "cell_type": "code",
   "execution_count": 7,
   "metadata": {},
   "outputs": [],
   "source": [
    "out_filename = \"sequences.txt\"\n",
    "save_doc(sequences, out_filename)"
   ]
  },
  {
   "cell_type": "code",
   "execution_count": 8,
   "metadata": {},
   "outputs": [
    {
     "name": "stdout",
     "output_type": "stream",
     "text": [
      "vocabulary size: 17495\n"
     ]
    }
   ],
   "source": [
    "vocab = set(all_lyric_lines)\n",
    "\n",
    "word_to_index = {w: i for i, w in enumerate(vocab)}\n",
    "index_to_word = {i: w for w, i in word_to_index.items()}\n",
    "word_indices = [word_to_index[word] for word in vocab]\n",
    "vocab_size = len(vocab)\n",
    "\n",
    "print(\"vocabulary size: {}\".format(vocab_size))"
   ]
  },
  {
   "cell_type": "code",
   "execution_count": 9,
   "metadata": {},
   "outputs": [],
   "source": [
    "def get_tokenized_lines(lines, seq_len):\n",
    "    tokenized = np.zeros((len(lines), seq_len))\n",
    "    \n",
    "    for r, line in enumerate(lines):\n",
    "        for c, word in enumerate(line):\n",
    "            tokenized[r, c] = word_to_index[word]\n",
    "            \n",
    "    return tokenized"
   ]
  },
  {
   "cell_type": "code",
   "execution_count": 10,
   "metadata": {},
   "outputs": [],
   "source": [
    "tokenized_seq = get_tokenized_lines(sequences, SEQ_LENGTH)"
   ]
  },
  {
   "cell_type": "code",
   "execution_count": 11,
   "metadata": {},
   "outputs": [
    {
     "data": {
      "text/plain": [
       "(377669,)"
      ]
     },
     "execution_count": 11,
     "metadata": {},
     "output_type": "execute_result"
    }
   ],
   "source": [
    "tokenized_seq[:, -1].shape"
   ]
  },
  {
   "cell_type": "code",
   "execution_count": 12,
   "metadata": {},
   "outputs": [],
   "source": [
    "from keras.utils import to_categorical\n",
    "\n",
    "X, y = tokenized_seq[:, :-1], tokenized_seq[:, -1]\n",
    "y = to_categorical(y, num_classes=vocab_size)\n",
    "seq_length = len(X[0])"
   ]
  },
  {
   "cell_type": "code",
   "execution_count": 13,
   "metadata": {},
   "outputs": [
    {
     "name": "stdout",
     "output_type": "stream",
     "text": [
      "X_shape (377669, 50)\n",
      "y_shape (377669, 17495)\n"
     ]
    }
   ],
   "source": [
    "print(\"X_shape\", X.shape)\n",
    "print(\"y_shape\", y.shape)"
   ]
  },
  {
   "cell_type": "code",
   "execution_count": 14,
   "metadata": {},
   "outputs": [
    {
     "name": "stdout",
     "output_type": "stream",
     "text": [
      "_________________________________________________________________\n",
      "Layer (type)                 Output Shape              Param #   \n",
      "=================================================================\n",
      "embedding_1 (Embedding)      (None, 50, 50)            874750    \n",
      "_________________________________________________________________\n",
      "lstm_1 (LSTM)                (None, 50, 100)           60400     \n",
      "_________________________________________________________________\n",
      "lstm_2 (LSTM)                (None, 100)               80400     \n",
      "_________________________________________________________________\n",
      "dense_1 (Dense)              (None, 100)               10100     \n",
      "_________________________________________________________________\n",
      "dense_2 (Dense)              (None, 17495)             1766995   \n",
      "=================================================================\n",
      "Total params: 2,792,645\n",
      "Trainable params: 2,792,645\n",
      "Non-trainable params: 0\n",
      "_________________________________________________________________\n",
      "None\n",
      "Epoch 1/50\n",
      "377669/377669 [==============================] - 1686s 4ms/step - loss: 6.6358 - acc: 0.0409\n",
      "Epoch 2/50\n",
      "377669/377669 [==============================] - 1687s 4ms/step - loss: 6.1965 - acc: 0.0650\n",
      "Epoch 3/50\n",
      "377669/377669 [==============================] - 1803s 5ms/step - loss: 5.9854 - acc: 0.0809\n",
      "Epoch 4/50\n",
      "377669/377669 [==============================] - 1786s 5ms/step - loss: 5.7943 - acc: 0.0930\n",
      "Epoch 5/50\n",
      "377669/377669 [==============================] - 1833s 5ms/step - loss: 5.6363 - acc: 0.1046\n",
      "Epoch 6/50\n",
      "377669/377669 [==============================] - 1777s 5ms/step - loss: 5.4952 - acc: 0.1147\n",
      "Epoch 7/50\n",
      "377669/377669 [==============================] - 1816s 5ms/step - loss: 5.3650 - acc: 0.1228\n",
      "Epoch 8/50\n",
      "377669/377669 [==============================] - 1914s 5ms/step - loss: 5.2462 - acc: 0.1309\n",
      "Epoch 9/50\n",
      "377669/377669 [==============================] - 2054s 5ms/step - loss: 5.1360 - acc: 0.1380\n",
      "Epoch 10/50\n",
      "377669/377669 [==============================] - 2121s 6ms/step - loss: 5.0336 - acc: 0.1448\n",
      "Epoch 11/50\n",
      "377669/377669 [==============================] - 2117s 6ms/step - loss: 4.9407 - acc: 0.1518\n",
      "Epoch 12/50\n",
      "377669/377669 [==============================] - 2130s 6ms/step - loss: 4.8534 - acc: 0.1586\n",
      "Epoch 13/50\n",
      "377669/377669 [==============================] - 1974s 5ms/step - loss: 4.7728 - acc: 0.1653\n",
      "Epoch 14/50\n",
      "377669/377669 [==============================] - 1988s 5ms/step - loss: 4.6964 - acc: 0.1725\n",
      "Epoch 15/50\n",
      "377669/377669 [==============================] - 1977s 5ms/step - loss: 4.6252 - acc: 0.1793\n",
      "Epoch 16/50\n",
      "377669/377669 [==============================] - 1930s 5ms/step - loss: 4.5576 - acc: 0.1862\n",
      "Epoch 17/50\n",
      "377669/377669 [==============================] - 1824s 5ms/step - loss: 4.4931 - acc: 0.1931\n",
      "Epoch 18/50\n",
      "377669/377669 [==============================] - 1842s 5ms/step - loss: 4.4338 - acc: 0.1999\n",
      "Epoch 19/50\n",
      "377669/377669 [==============================] - 1849s 5ms/step - loss: 4.3761 - acc: 0.2064\n",
      "Epoch 20/50\n",
      "377669/377669 [==============================] - 1857s 5ms/step - loss: 4.3227 - acc: 0.2126\n",
      "Epoch 21/50\n",
      "377669/377669 [==============================] - 1863s 5ms/step - loss: 4.2676 - acc: 0.2195\n",
      "Epoch 22/50\n",
      "377669/377669 [==============================] - 1878s 5ms/step - loss: 4.2194 - acc: 0.2253\n",
      "Epoch 23/50\n",
      "377669/377669 [==============================] - 1888s 5ms/step - loss: 4.1700 - acc: 0.2316\n",
      "Epoch 24/50\n",
      "377669/377669 [==============================] - 1903s 5ms/step - loss: 4.1238 - acc: 0.2377\n",
      "Epoch 25/50\n",
      "377669/377669 [==============================] - 1916s 5ms/step - loss: 4.0786 - acc: 0.2442\n",
      "Epoch 26/50\n",
      "377669/377669 [==============================] - 1927s 5ms/step - loss: 4.0372 - acc: 0.2493\n",
      "Epoch 27/50\n",
      "377669/377669 [==============================] - 1938s 5ms/step - loss: 3.9962 - acc: 0.2550\n",
      "Epoch 28/50\n",
      "377669/377669 [==============================] - 1948s 5ms/step - loss: 3.9547 - acc: 0.2606\n",
      "Epoch 29/50\n",
      "377669/377669 [==============================] - 1960s 5ms/step - loss: 3.9173 - acc: 0.2655\n",
      "Epoch 30/50\n",
      "377669/377669 [==============================] - 1963s 5ms/step - loss: 3.8779 - acc: 0.2713\n",
      "Epoch 31/50\n",
      "377669/377669 [==============================] - 1977s 5ms/step - loss: 3.8432 - acc: 0.2771\n",
      "Epoch 32/50\n",
      "377669/377669 [==============================] - 1979s 5ms/step - loss: 3.8086 - acc: 0.2816\n",
      "Epoch 33/50\n",
      "377669/377669 [==============================] - 1985s 5ms/step - loss: 3.7747 - acc: 0.2869\n",
      "Epoch 34/50\n",
      "377669/377669 [==============================] - 1990s 5ms/step - loss: 3.7421 - acc: 0.2914\n",
      "Epoch 35/50\n",
      "377669/377669 [==============================] - 2033s 5ms/step - loss: 3.7112 - acc: 0.2964\n",
      "Epoch 36/50\n",
      "377669/377669 [==============================] - 2035s 5ms/step - loss: 3.6801 - acc: 0.3008\n",
      "Epoch 37/50\n",
      "377669/377669 [==============================] - 2034s 5ms/step - loss: 3.6516 - acc: 0.3051\n",
      "Epoch 38/50\n",
      "377669/377669 [==============================] - 1939s 5ms/step - loss: 3.6235 - acc: 0.3092\n",
      "Epoch 39/50\n",
      "377669/377669 [==============================] - 1921s 5ms/step - loss: 3.5948 - acc: 0.3135\n",
      "Epoch 40/50\n",
      "377669/377669 [==============================] - 1953s 5ms/step - loss: 3.5703 - acc: 0.3179\n",
      "Epoch 41/50\n",
      "377669/377669 [==============================] - 1969s 5ms/step - loss: 3.5412 - acc: 0.3218\n",
      "Epoch 42/50\n",
      "377669/377669 [==============================] - 1977s 5ms/step - loss: 3.5180 - acc: 0.3248\n",
      "Epoch 43/50\n",
      "377669/377669 [==============================] - 1973s 5ms/step - loss: 3.4939 - acc: 0.3288\n",
      "Epoch 44/50\n",
      "377669/377669 [==============================] - 1982s 5ms/step - loss: 3.4730 - acc: 0.3322\n",
      "Epoch 45/50\n",
      "377669/377669 [==============================] - 1986s 5ms/step - loss: 3.4472 - acc: 0.3359\n",
      "Epoch 46/50\n",
      "377669/377669 [==============================] - 1994s 5ms/step - loss: 3.4282 - acc: 0.3393\n",
      "Epoch 47/50\n",
      "377669/377669 [==============================] - 1998s 5ms/step - loss: 3.4071 - acc: 0.3427\n",
      "Epoch 48/50\n",
      "377669/377669 [==============================] - 2004s 5ms/step - loss: 3.3860 - acc: 0.3454\n",
      "Epoch 49/50\n",
      "377669/377669 [==============================] - 2010s 5ms/step - loss: 3.3635 - acc: 0.3493\n",
      "Epoch 50/50\n",
      "377669/377669 [==============================] - 2031s 5ms/step - loss: 3.3468 - acc: 0.3518\n"
     ]
    }
   ],
   "source": [
    "from keras.models import Sequential\n",
    "from keras.layers import Dense\n",
    "from keras.layers import LSTM\n",
    "from keras.layers import Embedding\n",
    "\n",
    "model = Sequential()\n",
    "model.add(Embedding(vocab_size, 50, input_length=seq_length))\n",
    "model.add(LSTM(100, return_sequences=True))\n",
    "model.add(LSTM(100))\n",
    "model.add(Dense(100, activation='relu'))\n",
    "model.add(Dense(vocab_size, activation='softmax'))\n",
    "print(model.summary())\n",
    "\n",
    "model.compile(loss='categorical_crossentropy', optimizer='adam', metrics=['accuracy'])\n",
    "history = model.fit(X, y, batch_size=128, epochs=50)"
   ]
  },
  {
   "cell_type": "code",
   "execution_count": 15,
   "metadata": {},
   "outputs": [
    {
     "data": {
      "text/plain": [
       "[6.635801353823869,\n",
       " 6.196471450321056,\n",
       " 5.985404256616327,\n",
       " 5.794297040699274,\n",
       " 5.636348066262054,\n",
       " 5.495194495491133,\n",
       " 5.365041641392477,\n",
       " 5.246202683206313,\n",
       " 5.135976611425109,\n",
       " 5.033620675393083,\n",
       " 4.940721758634721,\n",
       " 4.8534282149747465,\n",
       " 4.772793715482376,\n",
       " 4.696389320866871,\n",
       " 4.625212612327951,\n",
       " 4.5576104618990545,\n",
       " 4.493135081520334,\n",
       " 4.433798131732176,\n",
       " 4.376111340149863,\n",
       " 4.322651716737397,\n",
       " 4.267590020414747,\n",
       " 4.2194214504550285,\n",
       " 4.170011889897325,\n",
       " 4.123761921258943,\n",
       " 4.078591098672879,\n",
       " 4.037202214991048,\n",
       " 3.9961755059099233,\n",
       " 3.954676456271928,\n",
       " 3.917319390838222,\n",
       " 3.8779295952268984,\n",
       " 3.8431745030067006,\n",
       " 3.8086116858718464,\n",
       " 3.7746753046804886,\n",
       " 3.742124948902355,\n",
       " 3.711234480120419,\n",
       " 3.680089154471024,\n",
       " 3.651590141654338,\n",
       " 3.623540153292416,\n",
       " 3.5948442476502267,\n",
       " 3.5703467443689205,\n",
       " 3.541198598717311,\n",
       " 3.518026604217989,\n",
       " 3.4939481144359936,\n",
       " 3.473044967624474,\n",
       " 3.4472151802127096,\n",
       " 3.4282025389923096,\n",
       " 3.407088859222254,\n",
       " 3.3859702372682334,\n",
       " 3.36351086447487,\n",
       " 3.346805119130704]"
      ]
     },
     "execution_count": 15,
     "metadata": {},
     "output_type": "execute_result"
    }
   ],
   "source": [
    "history.history['loss']"
   ]
  },
  {
   "cell_type": "code",
   "execution_count": 16,
   "metadata": {},
   "outputs": [],
   "source": [
    "import matplotlib.pyplot as plt"
   ]
  },
  {
   "cell_type": "code",
   "execution_count": 17,
   "metadata": {},
   "outputs": [
    {
     "data": {
      "text/plain": [
       "[<matplotlib.lines.Line2D at 0x11bee41198>]"
      ]
     },
     "execution_count": 17,
     "metadata": {},
     "output_type": "execute_result"
    },
    {
     "name": "stderr",
     "output_type": "stream",
     "text": [
      "/Users/michael/miniconda3/envs/py36/lib/python3.6/site-packages/matplotlib/font_manager.py:281: UserWarning: Matplotlib is building the font cache using fc-list. This may take a moment.\n",
      "  'Matplotlib is building the font cache using fc-list. '\n"
     ]
    },
    {
     "data": {
      "image/png": "[encoded data removed]",
      "text/plain": [
       "<matplotlib.figure.Figure at 0x11bed4ae48>"
      ]
     },
     "metadata": {},
     "output_type": "display_data"
    }
   ],
   "source": [
    "plt.plot(history.history['loss'])"
   ]
  },
  {
   "cell_type": "code",
   "execution_count": 18,
   "metadata": {},
   "outputs": [],
   "source": [
    "model.save('model/eminem-model.h5')"
   ]
  },
  {
   "cell_type": "code",
   "execution_count": 19,
   "metadata": {},
   "outputs": [],
   "source": [
    "def load_doc(filename):\n",
    "    file = open(filename, 'r')\n",
    "    text = file.read()\n",
    "    file.close()\n",
    "    return text"
   ]
  },
  {
   "cell_type": "code",
   "execution_count": 20,
   "metadata": {},
   "outputs": [],
   "source": [
    "in_filename = \"sequences.txt\"\n",
    "doc = load_doc(in_filename)\n",
    "lines = doc.split('\\n')\n",
    "seq_length = SEQ_LENGTH - 1"
   ]
  },
  {
   "cell_type": "code",
   "execution_count": 22,
   "metadata": {},
   "outputs": [
    {
     "name": "stdout",
     "output_type": "stream",
     "text": [
      "it was a toy but know im a bit more older i see what it is its like a fucking pair on conjoint simese twins twinnnns one day my mother said to me why dont you ever play outside i used to crawl under my pool and hide i used to\n",
      "\n"
     ]
    }
   ],
   "source": [
    "from random import randint\n",
    "\n",
    "seed_text = lines[randint(0, len(lines))]\n",
    "print(seed_text + '\\n')"
   ]
  },
  {
   "cell_type": "code",
   "execution_count": 23,
   "metadata": {},
   "outputs": [],
   "source": [
    "def texts_to_sequences(texts, word_to_index):\n",
    "    indices = np.zeros((1, len(texts)), dtype=int)\n",
    "    \n",
    "    for i, text in enumerate(texts):\n",
    "        indices[:, i] = word_to_index[text]\n",
    "        \n",
    "    return indices"
   ]
  },
  {
   "cell_type": "code",
   "execution_count": 52,
   "metadata": {},
   "outputs": [],
   "source": [
    "def my_pad_sequences(seq, maxlen):\n",
    "    start = seq.shape[1] - maxlen\n",
    "    \n",
    "    return seq[:, start: start + maxlen]"
   ]
  },
  {
   "cell_type": "code",
   "execution_count": 89,
   "metadata": {},
   "outputs": [],
   "source": [
    "def generate_seq(model, word_to_index, seq_length, seed_text, n_words):\n",
    "    result = list()\n",
    "    in_text = seed_text\n",
    "    \n",
    "    for _ in range(n_words):\n",
    "        encoded = texts_to_sequences(in_text.split(), word_to_index)\n",
    "        encoded = my_pad_sequences(encoded, maxlen=seq_length)\n",
    "        \n",
    "        yhat = model.predict_classes(encoded, verbose=0)\n",
    "        out_word = ''\n",
    "        \n",
    "        for word, index in word_to_index.items():\n",
    "            if index == yhat:\n",
    "                out_word = word\n",
    "                break\n",
    "                \n",
    "        in_text += ' ' + out_word\n",
    "        result.append(out_word)\n",
    "        \n",
    "    return ' '.join(result)"
   ]
  },
  {
   "cell_type": "code",
   "execution_count": 79,
   "metadata": {},
   "outputs": [
    {
     "name": "stdout",
     "output_type": "stream",
     "text": [
      "get the back to say the back pounder when you get your ass like a gold nugget what they know about it i can't be a little bit i got places to stop crack it'll make your best side of us just a little person so i don't wanna get\n",
      "50\n"
     ]
    }
   ],
   "source": [
    "generated0 = generate_seq(model, word_to_index, seq_length, seed_text, 50)\n",
    "print(generated0)\n",
    "print(len(generated0.split()))"
   ]
  },
  {
   "cell_type": "code",
   "execution_count": 87,
   "metadata": {},
   "outputs": [
    {
     "name": "stdout",
     "output_type": "stream",
     "text": [
      "stampeded\n"
     ]
    }
   ],
   "source": [
    "encoded = texts_to_sequences(generated0.split(), word_to_index)\n",
    "new_encoded = my_pad_sequences(encoded, seq_length)\n",
    "yhat = model.predict_classes(new_encoded, verbose=0)\n",
    "print(index_to_word[yhat[0]])"
   ]
  },
  {
   "cell_type": "code",
   "execution_count": 90,
   "metadata": {},
   "outputs": [
    {
     "data": {
      "text/plain": [
       "\"stampeded and lose mama else to do i did is to begin it and what you shitted on a little stressed away from this shit is none of my body collapse chicka who mighty vodka you don't give a fuck about fun and the fuck i had a little slide\""
      ]
     },
     "execution_count": 90,
     "metadata": {},
     "output_type": "execute_result"
    }
   ],
   "source": [
    "generate_seq(model, word_to_index, seq_length, generated0, 50)"
   ]
  },
  {
   "cell_type": "code",
   "execution_count": null,
   "metadata": {},
   "outputs": [],
   "source": []
  }
 ],
 "metadata": {
  "kernelspec": {
   "display_name": "Python 3",
   "language": "python",
   "name": "python3"
  },
  "language_info": {
   "codemirror_mode": {
    "name": "ipython",
    "version": 3
   },
   "file_extension": ".py",
   "mimetype": "text/x-python",
   "name": "python",
   "nbconvert_exporter": "python",
   "pygments_lexer": "ipython3",
   "version": "3.6.4"
  }
 },
 "nbformat": 4,
 "nbformat_minor": 2
}
