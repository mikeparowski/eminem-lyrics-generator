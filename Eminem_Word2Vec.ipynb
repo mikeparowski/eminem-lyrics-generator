{
 "cells": [
  {
   "cell_type": "code",
   "execution_count": 9,
   "metadata": {},
   "outputs": [],
   "source": [
    "import numpy as np\n",
    "import pandas as pd"
   ]
  },
  {
   "cell_type": "code",
   "execution_count": 2,
   "metadata": {},
   "outputs": [
    {
     "name": "stdout",
     "output_type": "stream",
     "text": [
      "Untitled.ipynb \u001b[1m\u001b[34mdata\u001b[m\u001b[m\r\n"
     ]
    }
   ],
   "source": [
    "!ls"
   ]
  },
  {
   "cell_type": "code",
   "execution_count": 3,
   "metadata": {},
   "outputs": [
    {
     "name": "stdout",
     "output_type": "stream",
     "text": [
      "eminem-songs.csv \u001b[1m\u001b[34mold\u001b[m\u001b[m              \u001b[1m\u001b[34msrc\u001b[m\u001b[m\r\n"
     ]
    }
   ],
   "source": [
    "!ls ./data/"
   ]
  },
  {
   "cell_type": "code",
   "execution_count": 10,
   "metadata": {},
   "outputs": [],
   "source": [
    "songs = pd.read_csv('./data/eminem-songs.csv')"
   ]
  },
  {
   "cell_type": "code",
   "execution_count": 5,
   "metadata": {},
   "outputs": [
    {
     "data": {
      "text/html": [
       "<div>\n",
       "<style scoped>\n",
       "    .dataframe tbody tr th:only-of-type {\n",
       "        vertical-align: middle;\n",
       "    }\n",
       "\n",
       "    .dataframe tbody tr th {\n",
       "        vertical-align: top;\n",
       "    }\n",
       "\n",
       "    .dataframe thead th {\n",
       "        text-align: right;\n",
       "    }\n",
       "</style>\n",
       "<table border=\"1\" class=\"dataframe\">\n",
       "  <thead>\n",
       "    <tr style=\"text-align: right;\">\n",
       "      <th></th>\n",
       "      <th>Unnamed: 0</th>\n",
       "      <th>Unnamed: 0.1</th>\n",
       "      <th>title</th>\n",
       "      <th>url</th>\n",
       "      <th>lyrics</th>\n",
       "    </tr>\n",
       "  </thead>\n",
       "  <tbody>\n",
       "    <tr>\n",
       "      <th>0</th>\n",
       "      <td>0</td>\n",
       "      <td>0</td>\n",
       "      <td>97_bonnie_and_clyde</td>\n",
       "      <td>http://www.metrolyrics.com/97-bonnie-and-clyde...</td>\n",
       "      <td>Baby, your dada loves you|-|And I'ma always be...</td>\n",
       "    </tr>\n",
       "    <tr>\n",
       "      <th>1</th>\n",
       "      <td>1</td>\n",
       "      <td>1</td>\n",
       "      <td>curtains_up__encore_version</td>\n",
       "      <td>http://www.metrolyrics.com/curtains-up-encore-...</td>\n",
       "      <td>Still on?|-|Yo, is the mic on?|-|Check, check,...</td>\n",
       "    </tr>\n",
       "    <tr>\n",
       "      <th>2</th>\n",
       "      <td>3</td>\n",
       "      <td>3</td>\n",
       "      <td>14_amityville</td>\n",
       "      <td>http://www.metrolyrics.com/14-amityville-lyric...</td>\n",
       "      <td>Kill|-|Dah-dum, dah-dum, dum|-|Dah-dum, dah-du...</td>\n",
       "    </tr>\n",
       "    <tr>\n",
       "      <th>3</th>\n",
       "      <td>4</td>\n",
       "      <td>4</td>\n",
       "      <td>20_boys</td>\n",
       "      <td>http://www.metrolyrics.com/20-boys-lyrics-emin...</td>\n",
       "      <td>Ryan's a homocidal misfit|-|I write the soluti...</td>\n",
       "    </tr>\n",
       "    <tr>\n",
       "      <th>4</th>\n",
       "      <td>5</td>\n",
       "      <td>5</td>\n",
       "      <td>25_to_life</td>\n",
       "      <td>http://www.metrolyrics.com/25-to-life-lyrics-e...</td>\n",
       "      <td>Too late for the other side|-|Caught in a chas...</td>\n",
       "    </tr>\n",
       "  </tbody>\n",
       "</table>\n",
       "</div>"
      ],
      "text/plain": [
       "   Unnamed: 0  Unnamed: 0.1                        title  \\\n",
       "0           0             0          97_bonnie_and_clyde   \n",
       "1           1             1  curtains_up__encore_version   \n",
       "2           3             3                14_amityville   \n",
       "3           4             4                      20_boys   \n",
       "4           5             5                   25_to_life   \n",
       "\n",
       "                                                 url  \\\n",
       "0  http://www.metrolyrics.com/97-bonnie-and-clyde...   \n",
       "1  http://www.metrolyrics.com/curtains-up-encore-...   \n",
       "2  http://www.metrolyrics.com/14-amityville-lyric...   \n",
       "3  http://www.metrolyrics.com/20-boys-lyrics-emin...   \n",
       "4  http://www.metrolyrics.com/25-to-life-lyrics-e...   \n",
       "\n",
       "                                              lyrics  \n",
       "0  Baby, your dada loves you|-|And I'ma always be...  \n",
       "1  Still on?|-|Yo, is the mic on?|-|Check, check,...  \n",
       "2  Kill|-|Dah-dum, dah-dum, dum|-|Dah-dum, dah-du...  \n",
       "3  Ryan's a homocidal misfit|-|I write the soluti...  \n",
       "4  Too late for the other side|-|Caught in a chas...  "
      ]
     },
     "execution_count": 5,
     "metadata": {},
     "output_type": "execute_result"
    }
   ],
   "source": [
    "songs.head()"
   ]
  },
  {
   "cell_type": "code",
   "execution_count": 6,
   "metadata": {},
   "outputs": [
    {
     "data": {
      "text/plain": [
       "Unnamed: 0       int64\n",
       "Unnamed: 0.1     int64\n",
       "title           object\n",
       "url             object\n",
       "lyrics          object\n",
       "dtype: object"
      ]
     },
     "execution_count": 6,
     "metadata": {},
     "output_type": "execute_result"
    }
   ],
   "source": [
    "songs.dtypes"
   ]
  },
  {
   "cell_type": "code",
   "execution_count": 13,
   "metadata": {},
   "outputs": [
    {
     "name": "stdout",
     "output_type": "stream",
     "text": [
      "processing: 0 -> baby, your dada love. 743 new words\n",
      "processing: 1 -> still on?|-|yo, is t. 21 new words\n",
      "processing: 2 -> kill|-|dah-dum, dah-. 523 new words\n",
      "processing: 3 -> ryan's a homocidal m. 1182 new words\n",
      "processing: 4 -> too late for the oth. 651 new words\n",
      "processing: 5 -> too late for the oth. 651 new words\n",
      "processing: 6 -> there is no escaping. 668 new words\n",
      "processing: 7 -> i'm the illest rappe. 553 new words\n",
      "processing: 8 -> (feat. eye-kyu|-|i'm. 451 new words\n",
      "processing: 9 -> verse 1:|-|you proba. 471 new words\n",
      "processing: 10 -> sometimes i just fee. 1022 new words\n",
      "processing: 11 -> you're style is gene. 113 new words\n",
      "processing: 12 -> now everybody from t. 272 new words\n",
      "processing: 13 -> yo, it's time to get. 340 new words\n",
      "processing: 14 -> now everybody from t. 271 new words\n",
      "processing: 15 -> this guy's a choke a. 305 new words\n",
      "processing: 16 -> sometimes i just fee. 1029 new words\n",
      "processing: 17 -> by jay z / freeway|-. 456 new words\n",
      "processing: 18 -> a drop in the ocean . 582 new words\n",
      "processing: 19 -> i wanna get kissed, . 1088 new words\n",
      "processing: 20 -> came to the world at. 915 new words\n",
      "processing: 21 -> the poor stays poor|. 654 new words\n",
      "processing: 22 -> get the fuck out mot. 407 new words\n",
      "processing: 23 -> it's shit like this . 607 new words\n",
      "processing: 24 -> can we pretend that . 727 new words\n",
      "processing: 25 -> (verse 1)|-|you thin. 109 new words\n",
      "processing: 26 -> yeah|-|i know someti. 805 new words\n",
      "processing: 27 -> now i don't really c. 826 new words\n",
      "processing: 28 -> now i don't really c. 826 new words\n",
      "processing: 29 -> i can almost taste i. 925 new words\n",
      "processing: 30 -> american psycho iid1. 193 new words\n",
      "processing: 31 -> (he's) mentally ill . 467 new words\n",
      "processing: 32 -> i knew i was treated. 443 new words\n",
      "processing: 33 -> hi!|-|original bad b. 598 new words\n",
      "processing: 34 -> the armageddon frees. 690 new words\n",
      "processing: 35 -> well i just heard th. 222 new words\n",
      "processing: 36 -> if i could rewind ti. 752 new words\n",
      "processing: 37 -> 2 skinnee j's acting. 333 new words\n",
      "processing: 38 -> yes, man!|-|as the w. 855 new words\n",
      "processing: 39 -> the way you shake it. 657 new words\n",
      "processing: 40 -> i came to the world . 960 new words\n",
      "processing: 41 -> im the next one next. 607 new words\n",
      "processing: 42 -> {lotto}|-|i'll spit . 320 new words\n",
      "processing: 43 -> this guy's a choke a. 306 new words\n",
      "processing: 44 -> now everybody from t. 281 new words\n",
      "processing: 45 -> check this out,check. 196 new words\n",
      "processing: 46 -> now everybody from t. 277 new words\n",
      "processing: 47 -> yeah,i said this on . 283 new words\n",
      "processing: 48 -> one thousand differe. 944 new words\n",
      "processing: 49 -> attention all units,. 657 new words\n",
      "processing: 50 -> you can sound the al. 809 new words\n",
      "processing: 51 -> it's like i'm in thi. 1353 new words\n",
      "processing: 52 -> the wild gotham|-|th. 1045 new words\n",
      "processing: 53 -> we never saw from ea. 781 new words\n",
      "processing: 54 -> people say that i'm . 753 new words\n",
      "processing: 55 -> i reckon you ain't f. 742 new words\n",
      "processing: 56 -> oh! it's music to my. 734 new words\n",
      "processing: 57 -> ballin' uncontrollab. 509 new words\n",
      "processing: 58 -> you can never ow me|. 197 new words\n",
      "processing: 59 -> going back to the co. 403 new words\n",
      "processing: 60 -> lately i've been har. 985 new words\n",
      "processing: 61 -> lately i've been har. 985 new words\n",
      "processing: 62 -> i can feel the heat . 695 new words\n",
      "processing: 63 -> and i, started from . 879 new words\n",
      "processing: 64 -> now this shit's abou. 777 new words\n",
      "processing: 65 -> (best rapper alive) . 556 new words\n",
      "processing: 66 -> welcome to detroit|-. 1597 new words\n",
      "processing: 67 -> i don't understand|-. 863 new words\n",
      "processing: 68 -> everybody says they . 241 new words\n",
      "processing: 69 -> justin? it's zoe|-|u. 61 new words\n",
      "processing: 70 -> yeah, what up detroi. 779 new words\n",
      "processing: 71 -> yeah, what up detroi. 779 new words\n",
      "processing: 72 -> - \"do it!\"|-|sneakin. 420 new words\n",
      "processing: 73 -> just pull the plug!|. 680 new words\n",
      "processing: 74 -> scalpel|-|here|-|spo. 771 new words\n",
      "processing: 75 -> or eminem has a full. 925 new words\n",
      "processing: 76 -> it fits perfect|-|be. 655 new words\n",
      "processing: 77 -> yo, check it out, it. 761 new words\n",
      "processing: 78 -> does it make you mad. 833 new words\n",
      "processing: 79 -> (missy) slim shady (. 766 new words\n",
      "processing: 80 -> marshall! sounds lik. 731 new words\n",
      "processing: 81 -> ohh! stat quo! here . 612 new words\n",
      "processing: 82 -> jumped out of the 2n. 1399 new words\n",
      "processing: 83 -> uncle marshall!|-|wi. 881 new words\n",
      "processing: 84 -> \"uncle marshall, wil. 785 new words\n",
      "processing: 85 -> breaking news: detro. 692 new words\n",
      "processing: 86 -> whooooooo shady...... 165 new words\n",
      "processing: 87 -> i built this castle,. 664 new words\n",
      "processing: 88 -> i just touched down,. 607 new words\n",
      "processing: 89 -> yo yo, this switch-b. 572 new words\n",
      "processing: 90 -> you are now listenin. 225 new words\n",
      "processing: 91 -> instinctive nature,|. 904 new words\n",
      "processing: 92 -> 2 chainz, yeah, yeah. 1073 new words\n",
      "processing: 93 -> you wanna start with. 401 new words\n",
      "processing: 94 -> yeah|-|(definitely, . 676 new words\n",
      "processing: 95 -> yeah|-|you know, tec. 750 new words\n",
      "processing: 96 -> man, let's go|-|ayo . 781 new words\n",
      "processing: 97 -> nowadays everybody j. 333 new words\n",
      "processing: 98 -> (eminem) yeah guess . 203 new words\n",
      "processing: 99 -> eminem ft. obie tric. 209 new words\n",
      "processing: 100 -> where's my snare?|-|. 679 new words\n",
      "processing: 101 -> where's my snare?|-|. 679 new words\n",
      "processing: 102 -> where's my snare?|-|. 671 new words\n",
      "processing: 103 -> load \"cleanin out my. 736 new words\n",
      "processing: 104 -> yeah|-|oh|-|this gam. 646 new words\n",
      "processing: 105 -> 'cause some things j. 868 new words\n",
      "processing: 106 -> good mornin|-|haha, . 904 new words\n",
      "processing: 107 -> where's my penis?|-|. 613 new words\n",
      "processing: 108 -> oooh! ladies and gen. 824 new words\n",
      "processing: 109 -> if you really loved . 492 new words\n",
      "processing: 110 -> tell myself that i w. 693 new words\n",
      "processing: 111 -> a lot of people ask . 1034 new words\n",
      "processing: 112 -> alot of people ask m. 805 new words\n",
      "processing: 113 -> yo, mic check|-|test. 659 new words\n",
      "processing: 114 -> uh nmm|-|this thing . 37 new words\n",
      "processing: 115 -> ken kanif:|-|*ken wa. 48 new words\n",
      "processing: 116 -> still on?|-|yo, is t. 21 new words\n",
      "processing: 117 -> (chorus)|-|and even . 185 new words\n",
      "processing: 118 -> you can own this cit. 428 new words\n",
      "processing: 119 -> bad boy baby|-|yeah,. 847 new words\n",
      "processing: 120 -> bad boy baby, yeah, . 781 new words\n",
      "processing: 121 -> dear *marshall*,|-|d. 310 new words\n",
      "processing: 122 -> dmc, we have a mid-3. 830 new words\n",
      "processing: 123 -> girl you gimme write. 569 new words\n",
      "processing: 124 -> fuck an intro man, l. 524 new words\n",
      "processing: 125 -> tell 'em if they wan. 1280 new words\n",
      "processing: 126 -> tell 'em if they wan. 1280 new words\n",
      "processing: 127 -> im a goat|-|and for . 20 new words\n",
      "processing: 128 -> you know it's devil'. 344 new words\n",
      "processing: 129 -> i roll over and go t. 596 new words\n",
      "processing: 130 -> they ask me am i ok?. 748 new words\n",
      "processing: 131 -> (em) - hailie baby, . 893 new words\n",
      "processing: 132 -> em you claim your mo. 988 new words\n",
      "processing: 133 -> em you claim your mo. 977 new words\n",
      "processing: 134 -> used to get, bent, n. 894 new words\n",
      "processing: 135 -> i need you to pray f. 765 new words\n",
      "processing: 136 -> cause you don't know. 913 new words\n",
      "processing: 137 -> \"morning, marshall.\". 275 new words\n",
      "processing: 138 -> obie, yo?|-|i'm sick. 768 new words\n",
      "processing: 139 -> yeah boy, them bette. 623 new words\n",
      "processing: 140 -> guess what?|-|i ain'. 912 new words\n",
      "processing: 141 -> yea...(laughter)...w. 785 new words\n",
      "processing: 142 -> they ask me am i oka. 873 new words\n",
      "processing: 143 -> (stan:)|-|dear emine. 71 new words\n",
      "processing: 144 -> this is how it goes|. 566 new words\n",
      "processing: 145 -> oh, all around the w. 541 new words\n",
      "processing: 146 -> all aboard, okay... . 781 new words\n",
      "processing: 147 -> aye yo paul, it's em. 131 new words\n",
      "processing: 148 -> paul, yo, um|-|so i . 138 new words\n",
      "processing: 149 -> yo! turn that click . 220 new words\n",
      "processing: 150 -> yeah!|-|oh shit, it'. 494 new words\n",
      "processing: 151 -> (instermentual). 1 new words\n",
      "processing: 152 -> throw dirt on me and. 841 new words\n",
      "processing: 153 -> obie trice:|-|obie t. 267 new words\n",
      "processing: 154 -> sh-sh-sh-shady|-|aft. 896 new words\n",
      "processing: 155 -> sh-sh-sh-shady|-|aft. 895 new words\n",
      "processing: 156 -> chours|-|come on hit. 835 new words\n",
      "processing: 157 -> lord, please forgive. 760 new words\n",
      "processing: 158 -> yeah, trying to figu. 1107 new words\n",
      "processing: 159 -> risin' up, back on t. 256 new words\n",
      "processing: 160 -> q: why don't you smi. 407 new words\n",
      "processing: 161 -> ow ow ow|-|im gonna . 437 new words\n",
      "processing: 162 -> ow ow ow|-|im gonna . 437 new words\n",
      "processing: 163 -> in love i just wanna. 354 new words\n",
      "processing: 164 -> you know, everybody'. 899 new words\n",
      "processing: 165 -> family problems|-|sh. 280 new words\n",
      "processing: 166 -> uh, first verse, uh,. 826 new words\n",
      "processing: 167 -> uh, first verse, uh,. 826 new words\n",
      "processing: 168 -> yo,|-|this kind of m. 847 new words\n",
      "processing: 169 -> \"encore / curtains d. 730 new words\n",
      "processing: 170 -> another day, another. 772 new words\n",
      "processing: 171 -> some people ask me, . 709 new words\n",
      "processing: 172 -> (mix by dj aliiee)|-. 565 new words\n",
      "processing: 173 -> it may not mean noth. 999 new words\n",
      "processing: 174 -> so look straight int. 516 new words\n",
      "processing: 175 -> y'all know me, still. 824 new words\n",
      "processing: 176 -> feeling kinky, lip s. 629 new words\n",
      "processing: 177 -> its the real spider . 334 new words\n",
      "processing: 178 -> are we supposed to s. 1421 new words\n",
      "processing: 179 -> i done figured this . 277 new words\n",
      "processing: 180 -> (feat. obie trice)|-. 666 new words\n",
      "processing: 181 -> (ja rule)|-|yo|-|(01. 733 new words\n",
      "processing: 182 -> eminem|-|fucking cra. 694 new words\n",
      "processing: 183 -> it's the libyan oppo. 262 new words\n",
      "processing: 184 -> yeah, yeah, i get it. 287 new words\n",
      "processing: 185 -> yeah, yeah, i get it. 287 new words\n",
      "processing: 186 -> yo. yo! (* eminem ha. 948 new words\n",
      "processing: 187 -> yo, mic check my dic. 878 new words\n",
      "processing: 188 -> hey yo dawg|-|i got . 1177 new words\n",
      "processing: 189 -> my name is ... some . 265 new words\n",
      "processing: 190 -> i ain't gonna eat, i. 775 new words\n",
      "processing: 191 -> i ain't gonna eat, i. 776 new words\n",
      "processing: 192 -> \"g.o.a.t.\"|-|i'm a g. 899 new words\n",
      "processing: 193 -> (eminem)|-|fame, fam. 707 new words\n",
      "processing: 194 -> you really dont know. 236 new words\n",
      "processing: 195 -> i'm going through ch. 774 new words\n",
      "processing: 196 -> here we go, a get in. 446 new words\n",
      "processing: 197 -> motherfuckers talkin. 892 new words\n",
      "processing: 198 -> what is a nightmare?. 905 new words\n",
      "processing: 199 -> meet eddie, twenty-t. 591 new words\n",
      "processing: 200 -> meet eddie, twenty-t. 591 new words\n",
      "processing: 201 -> feels like a close, . 891 new words\n",
      "processing: 202 -> makaveli, rest in pe. 862 new words\n",
      "processing: 203 -> yo, i can't sing but. 597 new words\n",
      "processing: 204 -> get on yo knees nigg. 907 new words\n",
      "processing: 205 -> yo, i can't sing but. 600 new words\n",
      "processing: 206 -> yo, i can't sing but. 600 new words\n",
      "processing: 207 -> (eminem)|-|on this d. 538 new words\n",
      "processing: 208 -> mom, i know i let yo. 850 new words\n",
      "processing: 209 -> lady you remind me o. 779 new words\n",
      "processing: 210 -> i want you to unders. 793 new words\n",
      "processing: 211 -> i want you to unders. 793 new words\n",
      "processing: 212 -> (announcer)|-|welcom. 598 new words\n",
      "processing: 213 -> hello... allow me to. 674 new words\n",
      "processing: 214 -> hello good morning t. 577 new words\n",
      "processing: 215 -> nah man|-|not quite . 664 new words\n"
     ]
    },
    {
     "name": "stdout",
     "output_type": "stream",
     "text": [
      "processing: 216 -> hi!|-|my name is|-|w. 703 new words\n",
      "processing: 217 -> chorus:|-|hit me wit. 967 new words\n",
      "processing: 218 -> eminem feat. skyla h. 12 new words\n",
      "processing: 219 -> so i changed, huh|-|. 800 new words\n",
      "processing: 220 -> uncle marshall!|-|wi. 881 new words\n",
      "processing: 221 -> (phone rings)|-|emin. 354 new words\n",
      "processing: 222 -> woah, uh get your ha. 753 new words\n",
      "processing: 223 -> well jimmy moved in . 154 new words\n",
      "processing: 224 -> you still love me?|-. 911 new words\n",
      "processing: 225 -> you still love me?|-. 911 new words\n",
      "processing: 226 -> i'm about to lose my. 696 new words\n",
      "processing: 227 -> ya mother... fuckin'. 818 new words\n",
      "processing: 228 -> somedays i just wann. 611 new words\n",
      "processing: 229 -> where's my snares|-|. 936 new words\n",
      "processing: 230 -> torture chambers, se. 372 new words\n",
      "processing: 231 -> all these little you. 755 new words\n",
      "processing: 232 -> all these little you. 755 new words\n",
      "processing: 233 -> who came through wit. 566 new words\n",
      "processing: 234 -> where's my snare?|-|. 681 new words\n",
      "processing: 235 -> check check|-|one, t. 738 new words\n",
      "processing: 236 -> check check|-|one, t. 738 new words\n",
      "processing: 237 -> \"life\" by marshall m. 697 new words\n",
      "processing: 238 -> \"life\" by marshall m. 697 new words\n",
      "processing: 239 -> that's why they call. 855 new words\n",
      "processing: 240 -> we touch, i feel a r. 640 new words\n",
      "processing: 241 -> in your head, in you. 434 new words\n",
      "processing: 242 -> aw, yeah (it's like . 498 new words\n",
      "processing: 243 -> i was born with a di. 649 new words\n",
      "processing: 244 -> you think you know m. 199 new words\n",
      "processing: 245 -> (burps) whoop!|-|hey. 48 new words\n",
      "processing: 246 -> may i have your atte. 768 new words\n",
      "processing: 247 -> eminem...|-|\"no\"|-|e. 84 new words\n",
      "processing: 248 -> may i have your atte. 768 new words\n",
      "processing: 249 -> intro:|-|let's get d. 433 new words\n",
      "processing: 250 -> yeah... oh! yeah yea. 736 new words\n",
      "processing: 251 -> can we pretend that . 378 new words\n",
      "processing: 252 -> eye-kyu: check it ou. 673 new words\n",
      "processing: 253 -> its its its its its.. 103 new words\n",
      "processing: 254 -> let it go|-|gotta le. 667 new words\n",
      "processing: 255 -> men singing:|-|jealo. 585 new words\n",
      "processing: 256 -> men singing:|-|jealo. 585 new words\n",
      "processing: 257 -> man, let's go|-|hey . 777 new words\n",
      "processing: 258 -> yo, yo|-|jingle bell. 440 new words\n",
      "processing: 259 -> woah, uh get your ha. 753 new words\n",
      "processing: 260 -> down, down, down!|-|. 669 new words\n",
      "processing: 261 -> ok.|-|guess who's ba. 677 new words\n",
      "processing: 262 -> down, down, down!|-|. 669 new words\n",
      "processing: 263 -> down, down, down!|-|. 669 new words\n",
      "processing: 264 -> are we supposed to s. 1422 new words\n",
      "processing: 265 -> baby, your dada love. 743 new words\n",
      "processing: 266 -> baby, your dada love. 743 new words\n",
      "processing: 267 -> okay, how do i say t. 656 new words\n",
      "processing: 268 -> yeah!|-|detroit moth. 770 new words\n",
      "processing: 269 -> i'm gonna call this . 141 new words\n",
      "processing: 270 -> [mr. mackey] (eric c. 1076 new words\n",
      "processing: 271 -> when i just a little. 951 new words\n",
      "processing: 272 -> you sound like a bit. 958 new words\n",
      "processing: 273 -> aww, look at daddy's. 733 new words\n",
      "processing: 274 -> here to stay|-|even . 935 new words\n",
      "processing: 275 -> tell me where to go,. 756 new words\n",
      "processing: 276 -> detroit|-|there is a. 202 new words\n",
      "processing: 277 -> i wanna write you, y. 459 new words\n",
      "processing: 278 -> the rap devil, the p. 342 new words\n",
      "processing: 279 -> this one's for you a. 797 new words\n",
      "processing: 280 -> yeah|-|shout to ever. 696 new words\n",
      "processing: 281 -> the way you shake it. 654 new words\n",
      "processing: 282 -> step by step, heart . 833 new words\n",
      "processing: 283 -> step by step, heart . 833 new words\n",
      "processing: 284 -> step by step, heart . 834 new words\n",
      "processing: 285 -> dont stop|-|dont sto. 691 new words\n",
      "processing: 286 -> look, if you had|-|o. 770 new words\n",
      "processing: 287 -> look|-|if you had on. 771 new words\n",
      "processing: 288 -> look|-|if you had on. 771 new words\n",
      "processing: 289 -> yo, if you could jus. 508 new words\n",
      "processing: 290 -> life handed me lemon. 967 new words\n",
      "processing: 291 -> for all the ladies o. 29 new words\n",
      "processing: 292 -> somethin's burnin', . 1103 new words\n",
      "processing: 293 -> you don't see me in . 651 new words\n",
      "processing: 294 -> just gonna stand the. 681 new words\n",
      "processing: 295 -> on the first page of. 502 new words\n",
      "processing: 296 -> still love me?|-|tak. 916 new words\n",
      "processing: 297 -> i'm low down and i'm. 789 new words\n",
      "processing: 298 -> woah|-|joyner, joyne. 1047 new words\n",
      "processing: 299 -> okay folks, enough w. 186 new words\n",
      "processing: 300 -> eminem|-|miscellaneo. 493 new words\n",
      "processing: 301 -> {eminem}\t123...7:00 . 178 new words\n",
      "processing: 302 -> you know i just don'. 948 new words\n",
      "processing: 303 -> you know i just don'. 948 new words\n",
      "processing: 304 -> you know i just don'. 948 new words\n",
      "processing: 305 -> maxine! (phone rings. 715 new words\n",
      "processing: 306 -> oh my goodness! what. 695 new words\n",
      "processing: 307 -> once again it's the . 426 new words\n",
      "processing: 308 -> yeah|-|i know someti. 861 new words\n",
      "processing: 309 -> yeah|-|i know someti. 861 new words\n",
      "processing: 310 -> look, if you had mom. 723 new words\n",
      "processing: 311 -> ha ha ha ha ha ha ha. 638 new words\n",
      "processing: 312 -> i pledge allegiance . 837 new words\n",
      "processing: 313 -> mr. mathers?|-|mr. m. 65 new words\n",
      "processing: 314 -> (fibra)|-|bella marr. 356 new words\n",
      "processing: 315 -> all i see is murder . 622 new words\n",
      "processing: 316 -> all i see is murder . 730 new words\n",
      "processing: 317 -> all i see is murder . 730 new words\n",
      "processing: 318 -> yo|-|yeah girl|-|can. 580 new words\n",
      "processing: 319 -> yeah... oh! yeah yea. 736 new words\n",
      "processing: 320 -> detroit, motown|-|he. 316 new words\n",
      "processing: 321 -> ohh!|-|yeah!|-|so mu. 913 new words\n",
      "processing: 322 -> eminem]|-|ballz, bal. 795 new words\n",
      "processing: 323 -> i don't know, dude|-. 977 new words\n",
      "processing: 324 -> hello boys and girls. 722 new words\n",
      "processing: 325 -> ah, ahh|-|yeah, look. 982 new words\n",
      "processing: 326 -> i never meant to giv. 735 new words\n",
      "processing: 327 -> yo yo, alright, i'm . 801 new words\n",
      "processing: 328 -> hi!|-|my name is|-|w. 703 new words\n",
      "processing: 329 -> hi! my name is... (w. 767 new words\n",
      "processing: 330 -> hi! my name is... (w. 767 new words\n",
      "processing: 331 -> hi!|-|my name is|-|w. 703 new words\n",
      "processing: 332 -> hi! my name is... (w. 767 new words\n",
      "processing: 333 -> y'knahmean shout to . 570 new words\n",
      "processing: 334 -> this mother-fucker a. 841 new words\n",
      "processing: 335 -> comin up it never ma. 625 new words\n",
      "processing: 336 -> i'm about to lose my. 696 new words\n",
      "processing: 337 -> you're drunk, the co. 574 new words\n",
      "processing: 338 -> denaun what up man?|. 770 new words\n",
      "processing: 339 -> wanna pull an all ni. 388 new words\n",
      "processing: 340 -> you're such a nice g. 385 new words\n",
      "processing: 341 -> in my mind i'm a fig. 516 new words\n",
      "processing: 342 -> make it, make it, ma. 952 new words\n",
      "processing: 343 -> throw dirt on me and. 822 new words\n",
      "processing: 344 -> yeah... ha ha ha (ba. 909 new words\n",
      "processing: 345 -> yeah...ha ha ha (ban. 910 new words\n",
      "processing: 346 -> yeah...ha ha ha (ban. 910 new words\n",
      "processing: 347 -> my heart is telling . 677 new words\n",
      "processing: 348 -> (eminem)|-|i really . 188 new words\n",
      "processing: 349 -> yo, how do i keep (i. 670 new words\n",
      "processing: 350 -> yeah, it's been a ri. 715 new words\n",
      "processing: 351 -> yeah, it's been a ri. 715 new words\n",
      "processing: 352 -> tay keith, fuck thes. 1130 new words\n",
      "processing: 353 -> ashes blowing in the. 676 new words\n",
      "processing: 354 -> sandy hook, stoneman. 758 new words\n",
      "processing: 355 -> back when andre the . 164 new words\n",
      "processing: 356 -> you know what you're. 66 new words\n",
      "processing: 357 -> [royce] what? uhh..|. 691 new words\n",
      "processing: 358 -> yo|-|(yo)|-|look!|-|. 701 new words\n",
      "processing: 359 -> you claim if you get. 1257 new words\n",
      "processing: 360 -> oh no what's happeni. 484 new words\n",
      "processing: 361 -> good evening. this i. 858 new words\n",
      "processing: 362 -> yeah, ya know? criti. 709 new words\n",
      "processing: 363 -> (eminem - 4x)|-|i'll. 915 new words\n",
      "processing: 364 -> sh sh...shady afterm. 861 new words\n",
      "processing: 365 -> i told ya'll mothafu. 960 new words\n",
      "processing: 366 -> hey yo, what's up ma. 767 new words\n",
      "processing: 367 -> (e) = eminem as emin. 715 new words\n",
      "processing: 368 -> nah man, not quite f. 666 new words\n",
      "processing: 369 -> i come around like w. 514 new words\n",
      "processing: 370 -> i'm not a lunatic i . 32 new words\n",
      "processing: 371 -> (don't kill me)|-|th. 53 new words\n",
      "processing: 372 -> ay em you know my fa. 793 new words\n",
      "processing: 373 -> hey, what's going on. 51 new words\n",
      "processing: 374 -> em, what's going on?. 51 new words\n",
      "processing: 375 -> hey, what's going on. 51 new words\n",
      "processing: 376 -> hey em, it's paul|-|. 91 new words\n",
      "processing: 377 -> i am phenomenal|-|wi. 819 new words\n",
      "processing: 378 -> well, i do pop pills. 151 new words\n",
      "processing: 379 -> yeah|-|shady...|-|af. 621 new words\n",
      "processing: 380 -> get up this morning . 767 new words\n",
      "processing: 381 -> i can hear your hear. 692 new words\n",
      "processing: 382 -> i guess you could co. 1047 new words\n",
      "processing: 383 -> hello?|-|what up?|-|. 335 new words\n",
      "processing: 384 -> this is a public ser. 89 new words\n",
      "processing: 385 -> this is another publ. 89 new words\n",
      "processing: 386 -> there i go. thinkin . 453 new words\n",
      "processing: 387 -> i take a couple uppe. 717 new words\n",
      "processing: 388 -> i take a couple uppe. 717 new words\n",
      "processing: 389 -> (eminem)|-|yo. i ded. 1267 new words\n",
      "processing: 390 -> some days i just wan. 613 new words\n",
      "processing: 391 -> lickilty split frees. 319 new words\n",
      "processing: 392 -> lotto:|-|yo its time. 351 new words\n",
      "processing: 393 -> now everybody from t. 275 new words\n",
      "processing: 394 -> yeah|-|(definitely, . 676 new words\n",
      "processing: 395 -> the rap game,|-|hip . 943 new words\n",
      "processing: 396 -> by d-12 / 50 cent|-|. 910 new words\n",
      "processing: 397 -> look, i was gonna go. 1430 new words\n",
      "processing: 398 -> look, i was gonna go. 1430 new words\n",
      "processing: 399 -> as soon as hip hop c. 537 new words\n",
      "processing: 400 -> whoa nelly,|-|tell a. 138 new words\n",
      "processing: 401 -> how the hell did he . 341 new words\n",
      "processing: 402 -> remember me? seven e. 570 new words\n",
      "processing: 403 -> i bust in, devilish . 633 new words\n",
      "processing: 404 -> damn girl|-|you driv. 39 new words\n",
      "processing: 405 -> motherfuckers -|-|sa. 878 new words\n",
      "processing: 406 -> i've drowned in high. 45 new words\n",
      "processing: 407 -> (what's your name?) . 866 new words\n",
      "processing: 408 -> first word, excremen. 654 new words\n",
      "processing: 409 -> once you call my nam. 523 new words\n",
      "processing: 410 -> aw man, yeah|-|you e. 840 new words\n",
      "processing: 411 -> i feel phenomenal as. 916 new words\n",
      "processing: 412 -> i've been a liar, be. 671 new words\n",
      "processing: 413 -> ayo|-|this song is d. 795 new words\n",
      "processing: 414 -> okay, i'm going to a. 631 new words\n",
      "processing: 415 -> i am not jasmine, i . 876 new words\n",
      "processing: 416 -> some days i just wan. 612 new words\n",
      "processing: 417 -> {pace won}|-|bust yo. 775 new words\n",
      "processing: 418 -> yo, same song and da. 894 new words\n",
      "processing: 419 -> say \"goodbye\", say \". 746 new words\n",
      "processing: 420 -> this ain't beef man|. 721 new words\n",
      "processing: 421 -> heh, so i'm out the . 932 new words\n",
      "processing: 422 -> scary movies (with b. 693 new words\n",
      "processing: 423 -> ok, i'm going to att. 631 new words\n"
     ]
    },
    {
     "name": "stdout",
     "output_type": "stream",
     "text": [
      "processing: 424 -> women singing:|-|ain. 455 new words\n",
      "processing: 425 -> i don't know man|-|j. 775 new words\n",
      "processing: 426 -> what up?|-|i'm em an. 12 new words\n",
      "processing: 427 -> ladies and gentlemen. 842 new words\n",
      "processing: 428 -> welcome to detroit|-. 1572 new words\n",
      "processing: 429 -> yeah|-|god damn|-|fe. 81 new words\n",
      "processing: 430 -> yeah|-|god damn|-|fe. 81 new words\n",
      "processing: 431 -> eminem:|-|s-s-shady . 1859 new words\n",
      "processing: 432 -> i'm liable to start . 1084 new words\n",
      "processing: 433 -> shady, aftermath|-|t. 701 new words\n",
      "processing: 434 -> shady, aftermath|-|t. 707 new words\n",
      "processing: 435 -> {eminem]|-|shady, af. 575 new words\n",
      "processing: 436 -> shady|-|aftermath|-|. 705 new words\n",
      "processing: 437 -> {eminem]|-|shady, af. 575 new words\n",
      "processing: 438 -> i'll shit on you|-|d. 980 new words\n",
      "processing: 439 -> intro)|-|bang bang i. 558 new words\n",
      "processing: 440 -> these ideas are, nig. 806 new words\n",
      "processing: 441 -> may i have your atte. 538 new words\n",
      "processing: 442 -> shady!|-|konvict|-|u. 563 new words\n",
      "processing: 443 -> shady!|-|konvict|-|u. 563 new words\n",
      "processing: 444 -> yeah, (haha)|-|you f. 902 new words\n",
      "processing: 445 -> i own a mansion but . 918 new words\n",
      "processing: 446 -> you fucking groupie.. 764 new words\n",
      "processing: 447 -> skylar montgomery?|-. 75 new words\n",
      "processing: 448 -> skylar montgomery?|-. 75 new words\n",
      "processing: 449 -> i'm a soldier|-|i'm . 704 new words\n",
      "processing: 450 -> i'm a soldier|-|i'm . 704 new words\n",
      "processing: 451 -> we touch, i feel a r. 640 new words\n",
      "processing: 452 -> if there's any bitch. 769 new words\n",
      "processing: 453 -> i'ma clean this whol. 553 new words\n",
      "processing: 454 -> people! it feels so . 811 new words\n",
      "processing: 455 -> my tea's gone cold i. 1234 new words\n",
      "processing: 456 -> dido|-|my tea's gone. 1047 new words\n",
      "processing: 457 -> dido|-|my tea's gone. 1047 new words\n",
      "processing: 458 -> yo, follow me, come . 995 new words\n",
      "processing: 459 -> its 2002, everything. 865 new words\n",
      "processing: 460 -> nah, you don't know . 329 new words\n",
      "processing: 461 -> 'eyyy!|-|hey em, wha. 188 new words\n",
      "processing: 462 -> a lot of people ask . 726 new words\n",
      "processing: 463 -> hey, listen|-|i love. 636 new words\n",
      "processing: 464 -> (uhh, hell yea man, . 617 new words\n",
      "processing: 465 -> i have the killing g. 395 new words\n",
      "processing: 466 -> you used to say that. 703 new words\n",
      "processing: 467 -> you high baby?|-|\"ye. 888 new words\n",
      "processing: 468 -> this is survival of . 733 new words\n",
      "processing: 469 -> let's take them back. 953 new words\n",
      "processing: 470 -> well jimmy moved in . 152 new words\n",
      "processing: 471 -> it's not about lyric. 897 new words\n",
      "processing: 472 -> it's not about lyric. 903 new words\n",
      "processing: 473 -> don't ask me what's . 273 new words\n",
      "processing: 474 -> you're going to be o. 743 new words\n",
      "processing: 475 -> yo... dre man.make m. 803 new words\n",
      "processing: 476 -> ayo, before i start . 925 new words\n",
      "processing: 477 -> chorus: now i don't . 633 new words\n",
      "processing: 478 -> -rza intro from \"air. 858 new words\n",
      "processing: 479 -> i'm a little nutty a. 691 new words\n",
      "processing: 480 -> how the fuck he got . 76 new words\n",
      "processing: 481 -> (eminem)|-|this thin. 255 new words\n",
      "processing: 482 -> like a dope fiend,|-. 202 new words\n",
      "processing: 483 -> eminem- \"the eminem . 4 new words\n",
      "processing: 484 -> whatever..|-|dre, ju. 718 new words\n",
      "processing: 485 -> and everyone should . 1048 new words\n",
      "processing: 486 -> i'm gonna kill this . 240 new words\n",
      "processing: 487 -> intro: scratches|-|b. 673 new words\n",
      "processing: 488 -> i'm friends with the. 624 new words\n",
      "processing: 489 -> hey, dave, 'twas the. 464 new words\n",
      "processing: 490 -> i told the world one. 188 new words\n",
      "processing: 491 -> em could i borrow yo. 158 new words\n",
      "processing: 492 -> eminem]|-|may i have. 760 new words\n",
      "processing: 493 -> ayo, this next song,. 776 new words\n",
      "processing: 494 -> yo|-|yo, i'm just go. 1334 new words\n",
      "processing: 495 -> i'm a little nutty a. 691 new words\n",
      "processing: 496 -> the wild.. gotham|-|. 647 new words\n",
      "processing: 497 -> it's the calm before. 577 new words\n",
      "processing: 498 -> -- 3m -- only reason. 750 new words\n",
      "processing: 499 -> ...man, whatever|-|d. 761 new words\n",
      "processing: 500 -> ...man, whatever|-|d. 761 new words\n",
      "processing: 501 -> the world ain't read. 381 new words\n",
      "processing: 502 -> it's (it's) be (be) . 804 new words\n",
      "processing: 503 -> [** feat. b.o.b:]|-|. 837 new words\n",
      "processing: 504 -> have you ever found . 175 new words\n",
      "processing: 505 -> yo i'm tryin to be t. 665 new words\n",
      "processing: 506 -> yo i keep m luv snug. 157 new words\n",
      "processing: 507 -> yo yo yo yo yo (this. 430 new words\n",
      "processing: 508 -> 'cause sometimes you. 812 new words\n",
      "processing: 509 -> sometimes you just f. 1150 new words\n",
      "processing: 510 -> i wasn't born mean i. 700 new words\n",
      "processing: 511 -> women singing:|-|ton. 688 new words\n",
      "processing: 512 -> hey! hey, stop, hey.. 82 new words\n",
      "processing: 513 -> my motto is \"live by. 333 new words\n",
      "processing: 514 -> (refrain)|-|(woo woo. 709 new words\n",
      "processing: 515 -> i'm stumbling, i can. 694 new words\n",
      "processing: 516 -> big proof, rest in p. 187 new words\n",
      "processing: 517 -> eminem: aite|-|fred . 714 new words\n",
      "processing: 518 -> verse 1:|-|here i go. 123 new words\n",
      "processing: 519 -> you sit there stone . 580 new words\n",
      "processing: 520 -> slim mother fuckin s. 271 new words\n",
      "processing: 521 -> - translation|-|so y. 925 new words\n",
      "processing: 522 -> a lot of people ask . 908 new words\n",
      "processing: 523 -> faded voice - fuck y. 681 new words\n",
      "processing: 524 -> hands up, officer do. 1145 new words\n",
      "processing: 525 -> got a shitty grin, b. 1262 new words\n",
      "processing: 526 -> (dr dre)|-|tell yo '. 367 new words\n",
      "processing: 527 -> i got a song filled . 824 new words\n",
      "processing: 528 -> you soul take check . 40 new words\n",
      "processing: 529 -> yeah, oh!|-|get up, . 836 new words\n",
      "processing: 530 -> yo zane,you think i . 153 new words\n",
      "processing: 531 -> yo, speed racer, 97'. 265 new words\n",
      "processing: 532 -> i walk on water|-|bu. 640 new words\n",
      "processing: 533 -> ladies and gentlemen. 1162 new words\n",
      "processing: 534 -> it's 50 a.k.a farrar. 620 new words\n",
      "processing: 535 -> by nas|-|uh, ohhhhh,. 539 new words\n",
      "processing: 536 -> song: watch deez (fe. 355 new words\n",
      "processing: 537 -> ...man, whatever|-|d. 761 new words\n",
      "processing: 538 -> eminem:|-|s-s-shady . 925 new words\n",
      "processing: 539 -> eminem:|-|s-s-shady . 925 new words\n",
      "processing: 540 -> there's an intruder,. 673 new words\n",
      "processing: 541 -> a lot of people ask . 567 new words\n",
      "processing: 542 -> guess who?|-|did you. 716 new words\n",
      "processing: 543 -> hahahaha|-|g g g g g. 839 new words\n",
      "processing: 544 -> i'm rockin shit, pac. 890 new words\n",
      "processing: 545 -> so let's get down to. 428 new words\n",
      "processing: 546 -> artist: cali kings f. 142 new words\n",
      "processing: 547 -> put it on my wee-wee. 509 new words\n",
      "processing: 548 -> yeah, yeah|-|tricky,. 725 new words\n"
     ]
    }
   ],
   "source": [
    "import re\n",
    "from unidecode import unidecode\n",
    "\n",
    "words = []\n",
    "\n",
    "for index, row in songs['lyrics'].iteritems():\n",
    "    row = str(row).lower()\n",
    "    new_words = re.findall(r\"\\b[a-z']+[a-z']+\\b\", unidecode(row))\n",
    "    words = words + new_words\n",
    "    print('processing: {} -> {}. {} new words'.format(index, row[:20], len(new_words)))"
   ]
  },
  {
   "cell_type": "code",
   "execution_count": 9,
   "metadata": {},
   "outputs": [
    {
     "data": {
      "text/plain": [
       "354383"
      ]
     },
     "execution_count": 9,
     "metadata": {},
     "output_type": "execute_result"
    }
   ],
   "source": [
    "len(words)"
   ]
  },
  {
   "cell_type": "code",
   "execution_count": 14,
   "metadata": {},
   "outputs": [
    {
     "data": {
      "text/plain": [
       "17468"
      ]
     },
     "execution_count": 14,
     "metadata": {},
     "output_type": "execute_result"
    }
   ],
   "source": [
    "vocab = set(words)\n",
    "len(vocab)"
   ]
  },
  {
   "cell_type": "code",
   "execution_count": 15,
   "metadata": {},
   "outputs": [],
   "source": [
    "word_to_index = {w: i for i, w in enumerate(vocab)}\n",
    "index_to_word = {i: w for w, i in word_to_index.items()}\n",
    "word_indices = [word_to_index[word] for word in vocab]\n",
    "vocab_n = len(vocab)"
   ]
  },
  {
   "cell_type": "code",
   "execution_count": 16,
   "metadata": {},
   "outputs": [],
   "source": [
    "ntk = [vocab_n]\n",
    "X_indices_of_ones = np.array(word_indices+word_indices)\n",
    "previous_word = ntk + word_indices[:-1]\n",
    "next_word = word_indices[1:] + ntk\n",
    "y_indices_of_ones = np.array(previous_word + next_word)"
   ]
  },
  {
   "cell_type": "code",
   "execution_count": 17,
   "metadata": {},
   "outputs": [
    {
     "data": {
      "text/plain": [
       "array([    0,     1,     2, ..., 17465, 17466, 17467])"
      ]
     },
     "execution_count": 17,
     "metadata": {},
     "output_type": "execute_result"
    }
   ],
   "source": [
    "X_indices_of_ones"
   ]
  },
  {
   "cell_type": "code",
   "execution_count": 18,
   "metadata": {},
   "outputs": [
    {
     "data": {
      "text/plain": [
       "array([17468,     0,     1, ..., 17466, 17467, 17468])"
      ]
     },
     "execution_count": 18,
     "metadata": {},
     "output_type": "execute_result"
    }
   ],
   "source": [
    "y_indices_of_ones"
   ]
  },
  {
   "cell_type": "code",
   "execution_count": 19,
   "metadata": {},
   "outputs": [
    {
     "data": {
      "text/plain": [
       "(17466, 17468)"
      ]
     },
     "execution_count": 19,
     "metadata": {},
     "output_type": "execute_result"
    }
   ],
   "source": [
    "previous_word[-1], next_word[-1]"
   ]
  },
  {
   "cell_type": "code",
   "execution_count": 20,
   "metadata": {},
   "outputs": [],
   "source": [
    "X = np.zeros((X_indices_of_ones.shape[0], vocab_n + 1))\n",
    "X[np.arange(X.shape[0]), X_indices_of_ones] = 1\n",
    "\n",
    "y = np.zeros((y_indices_of_ones.shape[0], vocab_n + 1))\n",
    "y[np.arange(y.shape[0]), y_indices_of_ones] = 1"
   ]
  },
  {
   "cell_type": "code",
   "execution_count": 21,
   "metadata": {},
   "outputs": [
    {
     "name": "stdout",
     "output_type": "stream",
     "text": [
      "(34936, 17469)\n",
      "(34936, 17469)\n"
     ]
    }
   ],
   "source": [
    "print(X.shape)\n",
    "print(y.shape)"
   ]
  },
  {
   "cell_type": "code",
   "execution_count": 22,
   "metadata": {},
   "outputs": [],
   "source": [
    "batch_size = 10\n",
    "divisible_size = 34930\n",
    "\n",
    "X_b = X[:divisible_size, :].reshape(int(divisible_size / batch_size), batch_size, vocab_n+1)\n",
    "y_b = y[:divisible_size, :].reshape(int(divisible_size / batch_size), batch_size, vocab_n+1)"
   ]
  },
  {
   "cell_type": "code",
   "execution_count": 23,
   "metadata": {},
   "outputs": [],
   "source": [
    "from keras.layers import Dense\n",
    "from keras.models import Sequential\n",
    "from keras.optimizers import Adam\n",
    "\n",
    "encoding_size = 8\n",
    "\n",
    "model = Sequential()\n",
    "model.add(Dense(encoding_size, input_shape=(batch_size, vocab_n+1), activation='relu'))\n",
    "model.add(Dense(vocab_n+1, activation='softmax'))\n",
    "\n",
    "model.compile(optimizer=Adam(), loss='categorical_crossentropy', metrics=['accuracy'])"
   ]
  },
  {
   "cell_type": "code",
   "execution_count": 24,
   "metadata": {},
   "outputs": [
    {
     "name": "stdout",
     "output_type": "stream",
     "text": [
      "_________________________________________________________________\n",
      "Layer (type)                 Output Shape              Param #   \n",
      "=================================================================\n",
      "dense_1 (Dense)              (None, 10, 8)             139760    \n",
      "_________________________________________________________________\n",
      "dense_2 (Dense)              (None, 10, 17469)         157221    \n",
      "=================================================================\n",
      "Total params: 296,981\n",
      "Trainable params: 296,981\n",
      "Non-trainable params: 0\n",
      "_________________________________________________________________\n"
     ]
    }
   ],
   "source": [
    "model.summary()"
   ]
  },
  {
   "cell_type": "code",
   "execution_count": 25,
   "metadata": {},
   "outputs": [
    {
     "name": "stderr",
     "output_type": "stream",
     "text": [
      "/Users/michael/miniconda3/envs/py36/lib/python3.6/site-packages/ipykernel_launcher.py:1: UserWarning: The `nb_epoch` argument in `fit` has been renamed `epochs`.\n",
      "  \"\"\"Entry point for launching an IPython kernel.\n"
     ]
    },
    {
     "name": "stdout",
     "output_type": "stream",
     "text": [
      "Epoch 1/100\n",
      "3493/3493 [==============================] - 79s 23ms/step - loss: 9.7787 - acc: 0.0000e+00\n",
      "Epoch 2/100\n",
      "3493/3493 [==============================] - 81s 23ms/step - loss: 9.7714 - acc: 0.0000e+00\n",
      "Epoch 3/100\n",
      "3493/3493 [==============================] - 86s 24ms/step - loss: 9.7687 - acc: 0.0000e+00\n",
      "Epoch 4/100\n",
      "3493/3493 [==============================] - 80s 23ms/step - loss: 9.7594 - acc: 2.8629e-05\n",
      "Epoch 5/100\n",
      "3493/3493 [==============================] - 80s 23ms/step - loss: 9.7411 - acc: 2.8629e-05\n",
      "Epoch 6/100\n",
      "3493/3493 [==============================] - 81s 23ms/step - loss: 9.7129 - acc: 5.7257e-05\n",
      "Epoch 7/100\n",
      "3493/3493 [==============================] - 80s 23ms/step - loss: 9.6733 - acc: 5.7257e-05\n",
      "Epoch 8/100\n",
      "3493/3493 [==============================] - 80s 23ms/step - loss: 9.6233 - acc: 1.1451e-04\n",
      "Epoch 9/100\n",
      "3493/3493 [==============================] - 79s 23ms/step - loss: 9.5644 - acc: 8.5886e-05\n",
      "Epoch 10/100\n",
      "3493/3493 [==============================] - 80s 23ms/step - loss: 9.4986 - acc: 2.2903e-04\n",
      "Epoch 11/100\n",
      "3493/3493 [==============================] - 81s 23ms/step - loss: 9.4277 - acc: 2.0040e-04\n",
      "Epoch 12/100\n",
      "3493/3493 [==============================] - 80s 23ms/step - loss: 9.3536 - acc: 8.5886e-04\n",
      "Epoch 13/100\n",
      "3493/3493 [==============================] - 80s 23ms/step - loss: 9.2774 - acc: 0.0011\n",
      "Epoch 14/100\n",
      "3493/3493 [==============================] - 80s 23ms/step - loss: 9.1997 - acc: 0.0021\n",
      "Epoch 15/100\n",
      "3493/3493 [==============================] - 81s 23ms/step - loss: 9.1215 - acc: 0.0028\n",
      "Epoch 16/100\n",
      "3493/3493 [==============================] - 80s 23ms/step - loss: 9.0427 - acc: 0.0037\n",
      "Epoch 17/100\n",
      "3493/3493 [==============================] - 80s 23ms/step - loss: 8.9633 - acc: 0.0051\n",
      "Epoch 18/100\n",
      "3493/3493 [==============================] - 81s 23ms/step - loss: 8.8834 - acc: 0.0059\n",
      "Epoch 19/100\n",
      "3493/3493 [==============================] - 81s 23ms/step - loss: 8.8034 - acc: 0.0067\n",
      "Epoch 20/100\n",
      "3493/3493 [==============================] - 87s 25ms/step - loss: 8.7229 - acc: 0.0074\n",
      "Epoch 21/100\n",
      "3493/3493 [==============================] - 81s 23ms/step - loss: 8.6422 - acc: 0.0082\n",
      "Epoch 22/100\n",
      "3493/3493 [==============================] - 81s 23ms/step - loss: 8.5618 - acc: 0.0088\n",
      "Epoch 23/100\n",
      "3493/3493 [==============================] - 83s 24ms/step - loss: 8.4811 - acc: 0.0091\n",
      "Epoch 24/100\n",
      "3493/3493 [==============================] - 80s 23ms/step - loss: 8.4002 - acc: 0.0096\n",
      "Epoch 25/100\n",
      "3493/3493 [==============================] - 81s 23ms/step - loss: 8.3200 - acc: 0.0096\n",
      "Epoch 26/100\n",
      "3493/3493 [==============================] - 80s 23ms/step - loss: 8.2401 - acc: 0.0108\n",
      "Epoch 27/100\n",
      "3493/3493 [==============================] - 79s 23ms/step - loss: 8.1606 - acc: 0.0115\n",
      "Epoch 28/100\n",
      "3493/3493 [==============================] - 80s 23ms/step - loss: 8.0823 - acc: 0.0116\n",
      "Epoch 29/100\n",
      "3493/3493 [==============================] - 79s 23ms/step - loss: 8.0048 - acc: 0.0127\n",
      "Epoch 30/100\n",
      "3493/3493 [==============================] - 80s 23ms/step - loss: 7.9280 - acc: 0.0127\n",
      "Epoch 31/100\n",
      "3493/3493 [==============================] - 79s 23ms/step - loss: 7.8525 - acc: 0.0129\n",
      "Epoch 32/100\n",
      "3493/3493 [==============================] - 79s 23ms/step - loss: 7.7778 - acc: 0.0137\n",
      "Epoch 33/100\n",
      "3493/3493 [==============================] - 80s 23ms/step - loss: 7.7052 - acc: 0.0135\n",
      "Epoch 34/100\n",
      "3493/3493 [==============================] - 80s 23ms/step - loss: 7.6331 - acc: 0.0147\n",
      "Epoch 35/100\n",
      "3493/3493 [==============================] - 80s 23ms/step - loss: 7.5629 - acc: 0.0153\n",
      "Epoch 36/100\n",
      "3493/3493 [==============================] - 79s 23ms/step - loss: 7.4937 - acc: 0.0164\n",
      "Epoch 37/100\n",
      "3493/3493 [==============================] - 80s 23ms/step - loss: 7.4259 - acc: 0.0171\n",
      "Epoch 38/100\n",
      "3493/3493 [==============================] - 79s 23ms/step - loss: 7.3592 - acc: 0.0179\n",
      "Epoch 39/100\n",
      "3493/3493 [==============================] - 79s 23ms/step - loss: 7.2942 - acc: 0.0192\n",
      "Epoch 40/100\n",
      "3493/3493 [==============================] - 80s 23ms/step - loss: 7.2304 - acc: 0.0201\n",
      "Epoch 41/100\n",
      "3493/3493 [==============================] - 80s 23ms/step - loss: 7.1678 - acc: 0.0223\n",
      "Epoch 42/100\n",
      "3493/3493 [==============================] - 79s 23ms/step - loss: 7.1065 - acc: 0.0235\n",
      "Epoch 43/100\n",
      "3493/3493 [==============================] - 80s 23ms/step - loss: 7.0463 - acc: 0.0247\n",
      "Epoch 44/100\n",
      "3493/3493 [==============================] - 79s 23ms/step - loss: 6.9877 - acc: 0.0275\n",
      "Epoch 45/100\n",
      "3493/3493 [==============================] - 80s 23ms/step - loss: 6.9299 - acc: 0.0283\n",
      "Epoch 46/100\n",
      "3493/3493 [==============================] - 80s 23ms/step - loss: 6.8729 - acc: 0.0314\n",
      "Epoch 47/100\n",
      "3493/3493 [==============================] - 80s 23ms/step - loss: 6.8176 - acc: 0.0326\n",
      "Epoch 48/100\n",
      "3493/3493 [==============================] - 80s 23ms/step - loss: 6.7629 - acc: 0.0361\n",
      "Epoch 49/100\n",
      "3493/3493 [==============================] - 79s 23ms/step - loss: 6.7090 - acc: 0.0381\n",
      "Epoch 50/100\n",
      "3493/3493 [==============================] - 82s 24ms/step - loss: 6.6558 - acc: 0.0410\n",
      "Epoch 51/100\n",
      "3493/3493 [==============================] - 83s 24ms/step - loss: 6.6042 - acc: 0.0427\n",
      "Epoch 52/100\n",
      "3493/3493 [==============================] - 82s 23ms/step - loss: 6.5525 - acc: 0.0464\n",
      "Epoch 53/100\n",
      "3493/3493 [==============================] - 81s 23ms/step - loss: 6.5023 - acc: 0.0494\n",
      "Epoch 54/100\n",
      "3493/3493 [==============================] - 82s 24ms/step - loss: 6.4526 - acc: 0.0521\n",
      "Epoch 55/100\n",
      "3493/3493 [==============================] - 82s 24ms/step - loss: 6.4033 - acc: 0.0571\n",
      "Epoch 56/100\n",
      "3493/3493 [==============================] - 82s 24ms/step - loss: 6.3551 - acc: 0.0588\n",
      "Epoch 57/100\n",
      "3493/3493 [==============================] - 82s 23ms/step - loss: 6.3073 - acc: 0.0632\n",
      "Epoch 58/100\n",
      "3493/3493 [==============================] - 85s 24ms/step - loss: 6.2602 - acc: 0.0656\n",
      "Epoch 59/100\n",
      "3493/3493 [==============================] - 83s 24ms/step - loss: 6.2136 - acc: 0.0692\n",
      "Epoch 60/100\n",
      "3493/3493 [==============================] - 81s 23ms/step - loss: 6.1672 - acc: 0.0733\n",
      "Epoch 61/100\n",
      "3493/3493 [==============================] - 81s 23ms/step - loss: 6.1217 - acc: 0.0768\n",
      "Epoch 62/100\n",
      "3493/3493 [==============================] - 81s 23ms/step - loss: 6.0769 - acc: 0.0800\n",
      "Epoch 63/100\n",
      "3493/3493 [==============================] - 82s 23ms/step - loss: 6.0324 - acc: 0.0837\n",
      "Epoch 64/100\n",
      "3493/3493 [==============================] - 82s 23ms/step - loss: 5.9885 - acc: 0.0865\n",
      "Epoch 65/100\n",
      "3493/3493 [==============================] - 88s 25ms/step - loss: 5.9447 - acc: 0.0911\n",
      "Epoch 66/100\n",
      "3493/3493 [==============================] - 81s 23ms/step - loss: 5.9016 - acc: 0.0937\n",
      "Epoch 67/100\n",
      "3493/3493 [==============================] - 81s 23ms/step - loss: 5.8589 - acc: 0.0969\n",
      "Epoch 68/100\n",
      "3493/3493 [==============================] - 81s 23ms/step - loss: 5.8170 - acc: 0.1005\n",
      "Epoch 69/100\n",
      "3493/3493 [==============================] - 81s 23ms/step - loss: 5.7751 - acc: 0.1039\n",
      "Epoch 70/100\n",
      "3493/3493 [==============================] - 81s 23ms/step - loss: 5.7339 - acc: 0.1078\n",
      "Epoch 71/100\n",
      "3493/3493 [==============================] - 80s 23ms/step - loss: 5.6930 - acc: 0.1111\n",
      "Epoch 72/100\n",
      "3493/3493 [==============================] - 80s 23ms/step - loss: 5.6528 - acc: 0.1130\n",
      "Epoch 73/100\n",
      "3493/3493 [==============================] - 82s 23ms/step - loss: 5.6125 - acc: 0.1172\n",
      "Epoch 74/100\n",
      "3493/3493 [==============================] - 81s 23ms/step - loss: 5.5731 - acc: 0.1204\n",
      "Epoch 75/100\n",
      "3493/3493 [==============================] - 79s 23ms/step - loss: 5.5343 - acc: 0.1223\n",
      "Epoch 76/100\n",
      "3493/3493 [==============================] - 79s 23ms/step - loss: 5.4954 - acc: 0.1245\n",
      "Epoch 77/100\n",
      "3493/3493 [==============================] - 79s 23ms/step - loss: 5.4576 - acc: 0.1271\n",
      "Epoch 78/100\n",
      "3493/3493 [==============================] - 81s 23ms/step - loss: 5.4194 - acc: 0.1310\n",
      "Epoch 79/100\n",
      "3493/3493 [==============================] - 79s 23ms/step - loss: 5.3821 - acc: 0.1322\n",
      "Epoch 80/100\n",
      "3493/3493 [==============================] - 79s 23ms/step - loss: 5.3452 - acc: 0.1352\n",
      "Epoch 81/100\n"
     ]
    },
    {
     "name": "stdout",
     "output_type": "stream",
     "text": [
      "3493/3493 [==============================] - 80s 23ms/step - loss: 5.3083 - acc: 0.1385\n",
      "Epoch 82/100\n",
      "3493/3493 [==============================] - 80s 23ms/step - loss: 5.2724 - acc: 0.1420\n",
      "Epoch 83/100\n",
      "3493/3493 [==============================] - 80s 23ms/step - loss: 5.2367 - acc: 0.1450\n",
      "Epoch 84/100\n",
      "3493/3493 [==============================] - 80s 23ms/step - loss: 5.2012 - acc: 0.1465\n",
      "Epoch 85/100\n",
      "3493/3493 [==============================] - 80s 23ms/step - loss: 5.1663 - acc: 0.1512\n",
      "Epoch 86/100\n",
      "3493/3493 [==============================] - 78s 22ms/step - loss: 5.1316 - acc: 0.1535\n",
      "Epoch 87/100\n",
      "3493/3493 [==============================] - 78s 22ms/step - loss: 5.0974 - acc: 0.1547\n",
      "Epoch 88/100\n",
      "3493/3493 [==============================] - 78s 22ms/step - loss: 5.0639 - acc: 0.1570\n",
      "Epoch 89/100\n",
      "3493/3493 [==============================] - 79s 23ms/step - loss: 5.0301 - acc: 0.1601\n",
      "Epoch 90/100\n",
      "3493/3493 [==============================] - 79s 23ms/step - loss: 4.9972 - acc: 0.1634\n",
      "Epoch 91/100\n",
      "3493/3493 [==============================] - 79s 22ms/step - loss: 4.9641 - acc: 0.1654\n",
      "Epoch 92/100\n",
      "3493/3493 [==============================] - 78s 22ms/step - loss: 4.9322 - acc: 0.1682\n",
      "Epoch 93/100\n",
      "3493/3493 [==============================] - 79s 23ms/step - loss: 4.8998 - acc: 0.1704\n",
      "Epoch 94/100\n",
      "3493/3493 [==============================] - 79s 23ms/step - loss: 4.8684 - acc: 0.1724\n",
      "Epoch 95/100\n",
      "3493/3493 [==============================] - 80s 23ms/step - loss: 4.8373 - acc: 0.1747\n",
      "Epoch 96/100\n",
      "3493/3493 [==============================] - 79s 23ms/step - loss: 4.8065 - acc: 0.1776\n",
      "Epoch 97/100\n",
      "3493/3493 [==============================] - 79s 23ms/step - loss: 4.7759 - acc: 0.1803\n",
      "Epoch 98/100\n",
      "3493/3493 [==============================] - 78s 22ms/step - loss: 4.7454 - acc: 0.1836\n",
      "Epoch 99/100\n",
      "3493/3493 [==============================] - 79s 23ms/step - loss: 4.7158 - acc: 0.1856\n",
      "Epoch 100/100\n",
      "3493/3493 [==============================] - 79s 23ms/step - loss: 4.6863 - acc: 0.1883\n"
     ]
    },
    {
     "data": {
      "text/plain": [
       "<keras.callbacks.History at 0x18270c54e0>"
      ]
     },
     "execution_count": 25,
     "metadata": {},
     "output_type": "execute_result"
    }
   ],
   "source": [
    "model.fit(X_b, y_b, nb_epoch=100)"
   ]
  },
  {
   "cell_type": "code",
   "execution_count": 26,
   "metadata": {},
   "outputs": [
    {
     "name": "stdout",
     "output_type": "stream",
     "text": [
      "_________________________________________________________________\n",
      "Layer (type)                 Output Shape              Param #   \n",
      "=================================================================\n",
      "dense_1 (Dense)              (None, 10, 8)             139760    \n",
      "_________________________________________________________________\n",
      "dense_2 (Dense)              (None, 10, 17469)         157221    \n",
      "=================================================================\n",
      "Total params: 296,981\n",
      "Trainable params: 296,981\n",
      "Non-trainable params: 0\n",
      "_________________________________________________________________\n"
     ]
    }
   ],
   "source": [
    "model.summary()"
   ]
  },
  {
   "cell_type": "code",
   "execution_count": 27,
   "metadata": {},
   "outputs": [],
   "source": [
    "encoding = model.layers[0].get_weights()[0]"
   ]
  },
  {
   "cell_type": "code",
   "execution_count": 28,
   "metadata": {},
   "outputs": [
    {
     "data": {
      "text/plain": [
       "(17469, 8)"
      ]
     },
     "execution_count": 28,
     "metadata": {},
     "output_type": "execute_result"
    }
   ],
   "source": [
    "encoding.shape"
   ]
  },
  {
   "cell_type": "code",
   "execution_count": 29,
   "metadata": {},
   "outputs": [
    {
     "data": {
      "text/plain": [
       "<keras.layers.core.Dense at 0x182663ec88>"
      ]
     },
     "execution_count": 29,
     "metadata": {},
     "output_type": "execute_result"
    }
   ],
   "source": [
    "model.layers[0]"
   ]
  },
  {
   "cell_type": "code",
   "execution_count": 30,
   "metadata": {},
   "outputs": [],
   "source": [
    "from keras.models import model_from_json"
   ]
  },
  {
   "cell_type": "code",
   "execution_count": 31,
   "metadata": {},
   "outputs": [],
   "source": [
    "def save_model_weights(model):\n",
    "    model_json = model.to_json()\n",
    "    with open('model/eminem-model.json', 'w') as json_file:\n",
    "        json_file.write(model_json)\n",
    "        print(\"saved model\")\n",
    "    model.save_weights('model/eminem-weights.h5')\n",
    "    print(\"saved weights\")"
   ]
  },
  {
   "cell_type": "code",
   "execution_count": 32,
   "metadata": {},
   "outputs": [],
   "source": [
    "def load_model():\n",
    "    json_file = open('model/eminem-model.json', 'r')\n",
    "    loaded_model_json = json_file.read()\n",
    "    json_file.close()\n",
    "    loaded_model = model_from_json(loaded_model_json)\n",
    "    print(\"loaded model\")\n",
    "    \n",
    "    loaded_model.load_weights('model/eminem-weights.h5')\n",
    "    print(\"loaded weights\")"
   ]
  },
  {
   "cell_type": "code",
   "execution_count": 33,
   "metadata": {},
   "outputs": [
    {
     "name": "stdout",
     "output_type": "stream",
     "text": [
      "saved model\n",
      "saved weights\n"
     ]
    }
   ],
   "source": [
    "save_model_weights(model)"
   ]
  },
  {
   "cell_type": "code",
   "execution_count": 34,
   "metadata": {},
   "outputs": [
    {
     "data": {
      "text/plain": [
       "(17469, 8)"
      ]
     },
     "execution_count": 34,
     "metadata": {},
     "output_type": "execute_result"
    }
   ],
   "source": [
    "encoding.shape"
   ]
  },
  {
   "cell_type": "code",
   "execution_count": 39,
   "metadata": {},
   "outputs": [
    {
     "data": {
      "text/plain": [
       "['god', 'absorbed', 'does', 'collide', 'stroller', 'airbags']"
      ]
     },
     "execution_count": 39,
     "metadata": {},
     "output_type": "execute_result"
    }
   ],
   "source": [
    "def closest_word_to_vector(word_vector, num_nearby):\n",
    "    distances = np.linalg.norm(encoding - word_vector, axis=1)\n",
    "    closest = np.argsort(distances)[:num_nearby]\n",
    "    return [index_to_word[i] for i in closest]\n",
    "\n",
    "def closest_word(word, num_nearby):\n",
    "    ind = word_to_index[word]\n",
    "    word_vector = encoding[ind]\n",
    "    return closest_word_to_vector(word_vector, num_nearby)\n",
    "\n",
    "closest_word(\"god\", 6)"
   ]
  },
  {
   "cell_type": "code",
   "execution_count": 40,
   "metadata": {},
   "outputs": [
    {
     "data": {
      "text/plain": [
       "['raygun', 'guards', 'certified', 'duckin', 'meeting']"
      ]
     },
     "execution_count": 40,
     "metadata": {},
     "output_type": "execute_result"
    }
   ],
   "source": [
    "def x_is_to_y_as_z_is_to(x, y, z, num_closest):\n",
    "    x_v = encoding[word_to_index[x]]\n",
    "    y_v = encoding[word_to_index[y]]\n",
    "    z_v = encoding[word_to_index[z]]\n",
    "    \n",
    "    relationship_vector = x_v - y_v\n",
    "    z_is_to = z_v + relationship_vector\n",
    "    \n",
    "    return closest_word_to_vector(z_is_to, num_closest)\n",
    "\n",
    "x_is_to_y_as_z_is_to(\"mom\", \"dad\", \"queen\", 5)"
   ]
  },
  {
   "cell_type": "code",
   "execution_count": 43,
   "metadata": {},
   "outputs": [
    {
     "data": {
      "text/plain": [
       "['goons',\n",
       " 'deeply',\n",
       " 'pretending',\n",
       " 'crosser',\n",
       " 'licked',\n",
       " 'braings',\n",
       " \"try'n\",\n",
       " 'asthma',\n",
       " 'walkie',\n",
       " 'messenger']"
      ]
     },
     "execution_count": 43,
     "metadata": {},
     "output_type": "execute_result"
    }
   ],
   "source": [
    "prediction_model = Sequential()\n",
    "prediction_model.add(Dense(encoding_size, input_dim = vocab_n + 1, activation='relu'))\n",
    "prediction_model.add(Dense(vocab_n + 1, activation='softmax'))\n",
    "\n",
    "prediction_model.compile(optimizer=Adam(), loss='categorical_crossentropy', metrics=['accuracy'])\n",
    "\n",
    "prediction_model.set_weights(model.get_weights())\n",
    "\n",
    "def words_likely_to_be_in_the_context_of(word, num_context):\n",
    "    input_vector = np.zeros((1, vocab_n + 1))\n",
    "    input_vector[0, word_to_index[word]] = 1\n",
    "    output_vector = prediction_model.predict(input_vector)[0]\n",
    "    top_context = np.argsort(-output_vector)[:num_context]\n",
    "    return [index_to_word[i] for i in top_context]\n",
    "\n",
    "words_likely_to_be_in_the_context_of('fuck', 10)"
   ]
  },
  {
   "cell_type": "code",
   "execution_count": 45,
   "metadata": {},
   "outputs": [],
   "source": [
    "def cosine_similarity(u, v):\n",
    "    \n",
    "    distance = 0.0\n",
    "    dot = np.dot(u, v)\n",
    "    \n",
    "    norm_u = np.linalg.norm(u)\n",
    "    norm_v = np.linalg.norm(v)\n",
    "    \n",
    "    cosine_similarity = dot / (norm_u * norm_v)\n",
    "    return cosine_similarity"
   ]
  },
  {
   "cell_type": "code",
   "execution_count": 47,
   "metadata": {},
   "outputs": [
    {
     "data": {
      "text/plain": [
       "-0.02945814"
      ]
     },
     "execution_count": 47,
     "metadata": {},
     "output_type": "execute_result"
    }
   ],
   "source": [
    "cosine_similarity(encoding[word_to_index['rap']], encoding[word_to_index['god']])"
   ]
  },
  {
   "cell_type": "code",
   "execution_count": 49,
   "metadata": {},
   "outputs": [
    {
     "name": "stdout",
     "output_type": "stream",
     "text": [
      "Epoch 1/100\n",
      "3493/3493 [==============================] - 74s 21ms/step - loss: 4.6287 - acc: 0.1931\n",
      "Epoch 2/100\n",
      "3493/3493 [==============================] - 77s 22ms/step - loss: 4.6006 - acc: 0.1939\n",
      "Epoch 3/100\n",
      "3493/3493 [==============================] - 78s 22ms/step - loss: 4.5725 - acc: 0.1969\n",
      "Epoch 4/100\n",
      "3493/3493 [==============================] - 74s 21ms/step - loss: 4.5450 - acc: 0.1987\n",
      "Epoch 5/100\n",
      "3493/3493 [==============================] - 75s 21ms/step - loss: 4.5177 - acc: 0.2009\n",
      "Epoch 6/100\n",
      "3493/3493 [==============================] - 75s 21ms/step - loss: 4.4905 - acc: 0.2032\n",
      "Epoch 7/100\n",
      "3493/3493 [==============================] - 75s 22ms/step - loss: 4.4640 - acc: 0.2033\n",
      "Epoch 8/100\n",
      "3493/3493 [==============================] - 75s 22ms/step - loss: 4.4377 - acc: 0.2065\n",
      "Epoch 9/100\n",
      "3493/3493 [==============================] - 75s 22ms/step - loss: 4.4119 - acc: 0.2075\n",
      "Epoch 10/100\n",
      "3493/3493 [==============================] - 75s 22ms/step - loss: 4.3857 - acc: 0.2098\n",
      "Epoch 11/100\n",
      "3493/3493 [==============================] - 75s 22ms/step - loss: 4.3607 - acc: 0.2127\n",
      "Epoch 12/100\n",
      "3493/3493 [==============================] - 76s 22ms/step - loss: 4.3358 - acc: 0.2138\n",
      "Epoch 13/100\n",
      "3493/3493 [==============================] - 76s 22ms/step - loss: 4.3112 - acc: 0.2162\n",
      "Epoch 14/100\n",
      "3493/3493 [==============================] - 76s 22ms/step - loss: 4.2867 - acc: 0.2169\n",
      "Epoch 15/100\n",
      "3493/3493 [==============================] - 76s 22ms/step - loss: 4.2629 - acc: 0.2180\n",
      "Epoch 16/100\n",
      "3493/3493 [==============================] - 76s 22ms/step - loss: 4.2387 - acc: 0.2206\n",
      "Epoch 17/100\n",
      "3493/3493 [==============================] - 77s 22ms/step - loss: 4.2156 - acc: 0.2208\n",
      "Epoch 18/100\n",
      "3493/3493 [==============================] - 76s 22ms/step - loss: 4.1923 - acc: 0.2235\n",
      "Epoch 19/100\n",
      "3493/3493 [==============================] - 76s 22ms/step - loss: 4.1694 - acc: 0.2236\n",
      "Epoch 20/100\n",
      "3493/3493 [==============================] - 75s 22ms/step - loss: 4.1463 - acc: 0.2266\n",
      "Epoch 21/100\n",
      "3493/3493 [==============================] - 76s 22ms/step - loss: 4.1247 - acc: 0.2287\n",
      "Epoch 22/100\n",
      "3493/3493 [==============================] - 75s 22ms/step - loss: 4.1023 - acc: 0.2300\n",
      "Epoch 23/100\n",
      "3493/3493 [==============================] - 75s 22ms/step - loss: 4.0801 - acc: 0.2318\n",
      "Epoch 24/100\n",
      "3493/3493 [==============================] - 75s 22ms/step - loss: 4.0587 - acc: 0.2317\n",
      "Epoch 25/100\n",
      "3493/3493 [==============================] - 75s 22ms/step - loss: 4.0375 - acc: 0.2342\n",
      "Epoch 26/100\n",
      "3493/3493 [==============================] - 75s 22ms/step - loss: 4.0163 - acc: 0.2352\n",
      "Epoch 27/100\n",
      "3493/3493 [==============================] - 76s 22ms/step - loss: 3.9951 - acc: 0.2369\n",
      "Epoch 28/100\n",
      "3493/3493 [==============================] - 76s 22ms/step - loss: 3.9742 - acc: 0.2372\n",
      "Epoch 29/100\n",
      "3493/3493 [==============================] - 76s 22ms/step - loss: 3.9542 - acc: 0.2387\n",
      "Epoch 30/100\n",
      "3493/3493 [==============================] - 77s 22ms/step - loss: 3.9336 - acc: 0.2421\n",
      "Epoch 31/100\n",
      "3493/3493 [==============================] - 76s 22ms/step - loss: 3.9137 - acc: 0.2431\n",
      "Epoch 32/100\n",
      "3493/3493 [==============================] - 76s 22ms/step - loss: 3.8940 - acc: 0.2445\n",
      "Epoch 33/100\n",
      "3493/3493 [==============================] - 76s 22ms/step - loss: 3.8745 - acc: 0.2459\n",
      "Epoch 34/100\n",
      "3493/3493 [==============================] - 76s 22ms/step - loss: 3.8547 - acc: 0.2476\n",
      "Epoch 35/100\n",
      "3493/3493 [==============================] - 76s 22ms/step - loss: 3.8359 - acc: 0.2483\n",
      "Epoch 36/100\n",
      "3493/3493 [==============================] - 76s 22ms/step - loss: 3.8169 - acc: 0.2493\n",
      "Epoch 37/100\n",
      "3493/3493 [==============================] - 76s 22ms/step - loss: 3.7977 - acc: 0.2488\n",
      "Epoch 38/100\n",
      "3493/3493 [==============================] - 76s 22ms/step - loss: 3.7788 - acc: 0.2541\n",
      "Epoch 39/100\n",
      "3493/3493 [==============================] - 76s 22ms/step - loss: 3.7605 - acc: 0.2554\n",
      "Epoch 40/100\n",
      "3493/3493 [==============================] - 76s 22ms/step - loss: 3.7418 - acc: 0.2547\n",
      "Epoch 41/100\n",
      "3493/3493 [==============================] - 76s 22ms/step - loss: 3.7240 - acc: 0.2563\n",
      "Epoch 42/100\n",
      "3493/3493 [==============================] - 76s 22ms/step - loss: 3.7062 - acc: 0.2566\n",
      "Epoch 43/100\n",
      "3493/3493 [==============================] - 76s 22ms/step - loss: 3.6881 - acc: 0.2590\n",
      "Epoch 44/100\n",
      "3493/3493 [==============================] - 82s 24ms/step - loss: 3.6707 - acc: 0.2624\n",
      "Epoch 45/100\n",
      "3493/3493 [==============================] - 93s 27ms/step - loss: 3.6531 - acc: 0.2630\n",
      "Epoch 46/100\n",
      "3493/3493 [==============================] - 106s 30ms/step - loss: 3.6358 - acc: 0.2648\n",
      "Epoch 47/100\n",
      "3493/3493 [==============================] - 113s 32ms/step - loss: 3.6188 - acc: 0.2651\n",
      "Epoch 48/100\n",
      "3493/3493 [==============================] - 121s 35ms/step - loss: 3.6016 - acc: 0.2664\n",
      "Epoch 49/100\n",
      "3493/3493 [==============================] - 128s 37ms/step - loss: 3.5843 - acc: 0.2696\n",
      "Epoch 50/100\n",
      "3493/3493 [==============================] - 121s 35ms/step - loss: 3.5680 - acc: 0.2686\n",
      "Epoch 51/100\n",
      "3493/3493 [==============================] - 121s 35ms/step - loss: 3.5516 - acc: 0.2713\n",
      "Epoch 52/100\n",
      "3493/3493 [==============================] - 172s 49ms/step - loss: 3.5355 - acc: 0.2721\n",
      "Epoch 53/100\n",
      "3493/3493 [==============================] - 372s 106ms/step - loss: 3.5192 - acc: 0.2741\n",
      "Epoch 54/100\n",
      "3493/3493 [==============================] - 89s 25ms/step - loss: 3.5027 - acc: 0.2760\n",
      "Epoch 55/100\n",
      "3493/3493 [==============================] - 75s 21ms/step - loss: 3.4871 - acc: 0.2766\n",
      "Epoch 56/100\n",
      "3493/3493 [==============================] - 75s 21ms/step - loss: 3.4705 - acc: 0.2797\n",
      "Epoch 57/100\n",
      "3493/3493 [==============================] - 75s 21ms/step - loss: 3.4553 - acc: 0.2796\n",
      "Epoch 58/100\n",
      "3493/3493 [==============================] - 75s 22ms/step - loss: 3.4401 - acc: 0.2801\n",
      "Epoch 59/100\n",
      "3493/3493 [==============================] - 75s 21ms/step - loss: 3.4242 - acc: 0.2818\n",
      "Epoch 60/100\n",
      "3493/3493 [==============================] - 75s 21ms/step - loss: 3.4092 - acc: 0.2815\n",
      "Epoch 61/100\n",
      "3493/3493 [==============================] - 77s 22ms/step - loss: 3.3944 - acc: 0.2836\n",
      "Epoch 62/100\n",
      "3493/3493 [==============================] - 75s 22ms/step - loss: 3.3791 - acc: 0.2852\n",
      "Epoch 63/100\n",
      "3493/3493 [==============================] - 75s 21ms/step - loss: 3.3641 - acc: 0.2878\n",
      "Epoch 64/100\n",
      "3493/3493 [==============================] - 75s 21ms/step - loss: 3.3491 - acc: 0.2888\n",
      "Epoch 65/100\n",
      "3493/3493 [==============================] - 75s 21ms/step - loss: 3.3353 - acc: 0.2885\n",
      "Epoch 66/100\n",
      "3493/3493 [==============================] - 75s 21ms/step - loss: 3.3202 - acc: 0.2905\n",
      "Epoch 67/100\n",
      "3493/3493 [==============================] - 75s 21ms/step - loss: 3.3062 - acc: 0.2908\n",
      "Epoch 68/100\n",
      "3493/3493 [==============================] - 75s 21ms/step - loss: 3.2916 - acc: 0.2933\n",
      "Epoch 69/100\n",
      "3493/3493 [==============================] - 74s 21ms/step - loss: 3.2775 - acc: 0.2941\n",
      "Epoch 70/100\n",
      "3493/3493 [==============================] - 74s 21ms/step - loss: 3.2633 - acc: 0.2929\n",
      "Epoch 71/100\n",
      "3493/3493 [==============================] - 76s 22ms/step - loss: 3.2491 - acc: 0.2968\n",
      "Epoch 72/100\n",
      "3493/3493 [==============================] - 74s 21ms/step - loss: 3.2359 - acc: 0.2986\n",
      "Epoch 73/100\n",
      "3493/3493 [==============================] - 74s 21ms/step - loss: 3.2218 - acc: 0.2981\n",
      "Epoch 74/100\n",
      "3493/3493 [==============================] - 74s 21ms/step - loss: 3.2090 - acc: 0.2986\n",
      "Epoch 75/100\n",
      "3493/3493 [==============================] - 74s 21ms/step - loss: 3.1952 - acc: 0.3007\n",
      "Epoch 76/100\n",
      "3493/3493 [==============================] - 74s 21ms/step - loss: 3.1814 - acc: 0.2994\n",
      "Epoch 77/100\n",
      "3493/3493 [==============================] - 74s 21ms/step - loss: 3.1680 - acc: 0.3021\n",
      "Epoch 78/100\n",
      "3493/3493 [==============================] - 74s 21ms/step - loss: 3.1557 - acc: 0.3041\n",
      "Epoch 79/100\n",
      "3493/3493 [==============================] - 74s 21ms/step - loss: 3.1421 - acc: 0.3052\n",
      "Epoch 80/100\n",
      "3493/3493 [==============================] - 74s 21ms/step - loss: 3.1290 - acc: 0.3071\n",
      "Epoch 81/100\n",
      "3493/3493 [==============================] - 74s 21ms/step - loss: 3.1166 - acc: 0.3066\n",
      "Epoch 82/100\n"
     ]
    },
    {
     "name": "stdout",
     "output_type": "stream",
     "text": [
      "3493/3493 [==============================] - 74s 21ms/step - loss: 3.1033 - acc: 0.3083\n",
      "Epoch 83/100\n",
      "3493/3493 [==============================] - 74s 21ms/step - loss: 3.0908 - acc: 0.3100\n",
      "Epoch 84/100\n",
      "3493/3493 [==============================] - 74s 21ms/step - loss: 3.0783 - acc: 0.3091\n",
      "Epoch 85/100\n",
      "3493/3493 [==============================] - 74s 21ms/step - loss: 3.0658 - acc: 0.3110\n",
      "Epoch 86/100\n",
      "3493/3493 [==============================] - 74s 21ms/step - loss: 3.0535 - acc: 0.3119\n",
      "Epoch 87/100\n",
      "3493/3493 [==============================] - 74s 21ms/step - loss: 3.0410 - acc: 0.3119\n",
      "Epoch 88/100\n",
      "3493/3493 [==============================] - 74s 21ms/step - loss: 3.0292 - acc: 0.3132\n",
      "Epoch 89/100\n",
      "3493/3493 [==============================] - 75s 21ms/step - loss: 3.0172 - acc: 0.3136\n",
      "Epoch 90/100\n",
      "3493/3493 [==============================] - 76s 22ms/step - loss: 3.0049 - acc: 0.3166\n",
      "Epoch 91/100\n",
      "3493/3493 [==============================] - 75s 21ms/step - loss: 2.9929 - acc: 0.3180\n",
      "Epoch 92/100\n",
      "3493/3493 [==============================] - 77s 22ms/step - loss: 2.9808 - acc: 0.3175\n",
      "Epoch 93/100\n",
      "3493/3493 [==============================] - 81s 23ms/step - loss: 2.9693 - acc: 0.3174\n",
      "Epoch 94/100\n",
      "3493/3493 [==============================] - 75s 21ms/step - loss: 2.9577 - acc: 0.3199\n",
      "Epoch 95/100\n",
      "3493/3493 [==============================] - 74s 21ms/step - loss: 2.9459 - acc: 0.3222\n",
      "Epoch 96/100\n",
      "3493/3493 [==============================] - 74s 21ms/step - loss: 2.9342 - acc: 0.3212\n",
      "Epoch 97/100\n",
      "3493/3493 [==============================] - 74s 21ms/step - loss: 2.9233 - acc: 0.3239\n",
      "Epoch 98/100\n",
      "3493/3493 [==============================] - 75s 21ms/step - loss: 2.9118 - acc: 0.3222\n",
      "Epoch 99/100\n",
      "3493/3493 [==============================] - 74s 21ms/step - loss: 2.9010 - acc: 0.3244\n",
      "Epoch 100/100\n",
      "3493/3493 [==============================] - 74s 21ms/step - loss: 2.8896 - acc: 0.3240\n"
     ]
    },
    {
     "data": {
      "text/plain": [
       "<keras.callbacks.History at 0x1829e93f98>"
      ]
     },
     "execution_count": 49,
     "metadata": {},
     "output_type": "execute_result"
    }
   ],
   "source": [
    "model.fit(X_b, y_b, epochs=100)"
   ]
  },
  {
   "cell_type": "code",
   "execution_count": 50,
   "metadata": {},
   "outputs": [
    {
     "name": "stdout",
     "output_type": "stream",
     "text": [
      "saved model\n",
      "saved weights\n"
     ]
    }
   ],
   "source": [
    "save_model_weights(model)"
   ]
  },
  {
   "cell_type": "code",
   "execution_count": null,
   "metadata": {},
   "outputs": [],
   "source": []
  }
 ],
 "metadata": {
  "kernelspec": {
   "display_name": "Python 3",
   "language": "python",
   "name": "python3"
  },
  "language_info": {
   "codemirror_mode": {
    "name": "ipython",
    "version": 3
   },
   "file_extension": ".py",
   "mimetype": "text/x-python",
   "name": "python",
   "nbconvert_exporter": "python",
   "pygments_lexer": "ipython3",
   "version": "3.6.4"
  }
 },
 "nbformat": 4,
 "nbformat_minor": 2
}
